{
 "cells": [
  {
   "cell_type": "code",
   "execution_count": 81,
   "metadata": {
    "execution": {
     "iopub.execute_input": "2024-05-09T00:16:12.293692Z",
     "iopub.status.busy": "2024-05-09T00:16:12.293692Z",
     "iopub.status.idle": "2024-05-09T00:16:15.340697Z",
     "shell.execute_reply": "2024-05-09T00:16:15.340697Z"
    }
   },
   "outputs": [
    {
     "data": {
      "text/plain": [
       "True"
      ]
     },
     "execution_count": 81,
     "metadata": {},
     "output_type": "execute_result"
    }
   ],
   "source": [
    "# Setup and imports\n",
    "import os\n",
    "import warnings\n",
    "import requests\n",
    "import pandas as pd\n",
    "from datetime import datetime, timedelta\n",
    "import pytz \n",
    "import hvplot.pandas  # For advanced visualizations\n",
    "from dotenv import load_dotenv\n",
    "import alpaca_trade_api as tradeapi\n",
    "\n",
    "load_dotenv()\n"
   ]
  },
  {
   "cell_type": "code",
   "execution_count": 82,
   "metadata": {
    "execution": {
     "iopub.execute_input": "2024-05-09T00:16:15.343699Z",
     "iopub.status.busy": "2024-05-09T00:16:15.342701Z",
     "iopub.status.idle": "2024-05-09T00:16:15.355698Z",
     "shell.execute_reply": "2024-05-09T00:16:15.355698Z"
    }
   },
   "outputs": [],
   "source": [
    "# Set Alpaca API key and secret\n",
    "alpaca_api_key = os.getenv(\"ALPACA_API_KEY\")\n",
    "alpaca_secret_key = os.getenv(\"ALPACA_SECRET_KEY\")\n",
    "\n",
    "# Create the Alpaca API object\n",
    "api = tradeapi.REST(alpaca_api_key, alpaca_secret_key, api_version='v2')\n"
   ]
  },
  {
   "cell_type": "code",
   "execution_count": 83,
   "metadata": {
    "execution": {
     "iopub.execute_input": "2024-05-09T00:16:15.358692Z",
     "iopub.status.busy": "2024-05-09T00:16:15.358692Z",
     "iopub.status.idle": "2024-05-09T00:16:16.507317Z",
     "shell.execute_reply": "2024-05-09T00:16:16.507317Z"
    }
   },
   "outputs": [],
   "source": [
    "# Define the timezone and get the current date\n",
    "tz = pytz.timezone('America/New_York')\n",
    "now = datetime.now(tz)\n",
    "correct_date = now - timedelta(days=1)\n",
    "correct_timestamp = pd.Timestamp(correct_date).normalize()\n",
    "correct_date_str = correct_timestamp.isoformat()\n",
    "\n",
    "# Set tickers and timeframe\n",
    "tickers = [\"SPY\", \"QQQ\", \"IWM\", \"AAPL\", \"MSFT\", \"AMZN\", \"GOOGL\", \"META\", \"TSLA\", \"NVDA\", \"JNJ\", \"JPM\"]\n",
    "timeframe = \"1Day\"\n",
    "\n",
    "# Fetch data\n",
    "current_portfolio_df = api.get_bars(tickers, timeframe, start=correct_date_str, end=correct_date_str).df\n"
   ]
  },
  {
   "cell_type": "code",
   "execution_count": 84,
   "metadata": {
    "execution": {
     "iopub.execute_input": "2024-05-09T00:16:16.510325Z",
     "iopub.status.busy": "2024-05-09T00:16:16.510325Z",
     "iopub.status.idle": "2024-05-09T00:16:16.538425Z",
     "shell.execute_reply": "2024-05-09T00:16:16.538425Z"
    }
   },
   "outputs": [
    {
     "name": "stdout",
     "output_type": "stream",
     "text": [
      "                              SPY                                      \\\n",
      "                            close    high     low trade_count    open   \n",
      "timestamp                                                               \n",
      "2024-05-08 04:00:00+00:00  517.19  517.74  515.14      369154  515.26   \n",
      "\n",
      "                                                   QQQ                  ...  \\\n",
      "                             volume       vwap   close    high     low  ...   \n",
      "timestamp                                                               ...   \n",
      "2024-05-08 04:00:00+00:00  42047115  516.92131  440.06  441.48  437.55  ...   \n",
      "\n",
      "                              JNJ                          JPM                 \\\n",
      "                             open   volume        vwap   close    high    low   \n",
      "timestamp                                                                       \n",
      "2024-05-08 04:00:00+00:00  149.12  7735148  149.037034  195.65  196.65  191.0   \n",
      "\n",
      "                                                                   \n",
      "                          trade_count   open   volume        vwap  \n",
      "timestamp                                                          \n",
      "2024-05-08 04:00:00+00:00      134463  191.0  9227561  194.278179  \n",
      "\n",
      "[1 rows x 84 columns]\n"
     ]
    }
   ],
   "source": [
    "# Organize data by dropping 'symbol' and concatenate\n",
    "if 'symbol' in current_portfolio_df.columns:\n",
    "    dfs = {ticker: current_portfolio_df[current_portfolio_df['symbol'] == ticker].drop(columns='symbol', errors='ignore') for ticker in tickers}\n",
    "    portfolio_concat_df = pd.concat(dfs.values(), axis=1, keys=tickers)\n",
    "    print(portfolio_concat_df.head())\n",
    "else:\n",
    "    print(\"Symbol column not found in DataFrame.\")\n"
   ]
  },
  {
   "cell_type": "code",
   "execution_count": 85,
   "metadata": {
    "execution": {
     "iopub.execute_input": "2024-05-09T00:16:16.541438Z",
     "iopub.status.busy": "2024-05-09T00:16:16.541438Z",
     "iopub.status.idle": "2024-05-09T00:16:16.554425Z",
     "shell.execute_reply": "2024-05-09T00:16:16.554425Z"
    }
   },
   "outputs": [
    {
     "name": "stdout",
     "output_type": "stream",
     "text": [
      "Stock data saved successfully to stock_data.csv\n"
     ]
    }
   ],
   "source": [
    "# Define the directory path for raw_data\n",
    "# \n",
    "raw_data_dir = '../data/raw_data'\n",
    "if not os.path.exists(raw_data_dir):\n",
    "    os.makedirs(raw_data_dir)\n",
    "\n",
    "# Function to save DataFrame to CSV\n",
    "def save_data(df, filename, description):\n",
    "    if not df.empty:\n",
    "        df.to_csv(os.path.join(raw_data_dir, filename))\n",
    "        print(f\"{description} data saved successfully to {filename}\")\n",
    "    else:\n",
    "        print(f\"No {description} data to save. Writing null placeholder.\")\n",
    "\n",
    "# Save data\n",
    "save_data(portfolio_concat_df, 'stock_data.csv', 'Stock') # This code exports portfolio_concat_df to a file named 'stock_data.csv'\n"
   ]
  },
  {
   "cell_type": "code",
   "execution_count": 86,
   "metadata": {
    "execution": {
     "iopub.execute_input": "2024-05-09T00:16:21.081426Z",
     "iopub.status.busy": "2024-05-09T00:16:21.081426Z",
     "iopub.status.idle": "2024-05-09T00:16:21.094433Z",
     "shell.execute_reply": "2024-05-09T00:16:21.094433Z"
    }
   },
   "outputs": [
    {
     "name": "stdout",
     "output_type": "stream",
     "text": [
      "Clean Stock data saved successfully to cleaned_stock_data.csv\n"
     ]
    }
   ],
   "source": [
    "\n",
    "# Define the directory path for cleaned_data\n",
    "cleaned_data_dir = '../data/cleaned_data'\n",
    "if not os.path.exists(cleaned_data_dir):\n",
    "    os.makedirs(cleaned_data_dir)\n",
    "\n",
    "def save_data(df, filename, description):\n",
    "    if not df.empty:\n",
    "        df.to_csv(os.path.join(cleaned_data_dir, filename))\n",
    "        print(f\"{description} data saved successfully to {filename}\")\n",
    "    else:\n",
    "        print(f\"No {description} data to save. Writing null placeholder.\")\n",
    "# Save cleaned data\n",
    "save_data(portfolio_concat_df, 'cleaned_stock_data.csv', 'Clean Stock') # This code exports the same portfolio_concat_df as the one above but not a csv file name 'cleaned_stock_data.csv'\n"
   ]
  },
  {
   "cell_type": "code",
   "execution_count": 87,
   "metadata": {
    "execution": {
     "iopub.execute_input": "2024-05-09T00:16:16.557434Z",
     "iopub.status.busy": "2024-05-09T00:16:16.557434Z",
     "iopub.status.idle": "2024-05-09T00:16:16.570426Z",
     "shell.execute_reply": "2024-05-09T00:16:16.570426Z"
    }
   },
   "outputs": [
    {
     "name": "stdout",
     "output_type": "stream",
     "text": [
      "Summary Statistics:\n",
      "SPY:\n",
      "  Closing Price: 517.19\n",
      "  Volume: 42,047,115\n",
      "  VWAP: 516.92\n",
      "QQQ:\n",
      "  Closing Price: 440.06\n",
      "  Volume: 24,896,723\n",
      "  VWAP: 439.77\n",
      "IWM:\n",
      "  Closing Price: 203.78\n",
      "  Volume: 18,349,403\n",
      "  VWAP: 203.47\n",
      "AAPL:\n",
      "  Closing Price: 182.74\n",
      "  Volume: 45,057,087\n",
      "  VWAP: 182.48\n",
      "MSFT:\n",
      "  Closing Price: 410.54\n",
      "  Volume: 11,792,308\n",
      "  VWAP: 410.41\n",
      "AMZN:\n",
      "  Closing Price: 188.00\n",
      "  Volume: 26,136,350\n",
      "  VWAP: 187.64\n",
      "GOOGL:\n",
      "  Closing Price: 169.38\n",
      "  Volume: 19,586,146\n",
      "  VWAP: 169.54\n",
      "META:\n",
      "  Closing Price: 472.60\n",
      "  Volume: 11,683,929\n",
      "  VWAP: 472.02\n",
      "TSLA:\n",
      "  Closing Price: 174.72\n",
      "  Volume: 79,969,488\n",
      "  VWAP: 173.81\n",
      "NVDA:\n",
      "  Closing Price: 904.12\n",
      "  Volume: 32,572,102\n",
      "  VWAP: 903.15\n",
      "JNJ:\n",
      "  Closing Price: 148.95\n",
      "  Volume: 7,735,148\n",
      "  VWAP: 149.04\n",
      "JPM:\n",
      "  Closing Price: 195.65\n",
      "  Volume: 9,227,561\n",
      "  VWAP: 194.28\n"
     ]
    }
   ],
   "source": [
    "# Advanced Data Analysis\n",
    "close_price = portfolio_concat_df.loc[:, (slice(None), 'close')]\n",
    "volume = portfolio_concat_df.loc[:, (slice(None), 'volume')]\n",
    "vwap = portfolio_concat_df.loc[:, (slice(None), 'vwap')]\n",
    "\n",
    "# Print summary statistics for each stock\n",
    "print(\"Summary Statistics:\")\n",
    "for stock in close_price.columns.get_level_values(0).unique():\n",
    "    print(f\"{stock}:\")\n",
    "    print(f\"  Closing Price: {close_price.loc[:, (stock, 'close')].values[0]:.2f}\")\n",
    "    print(f\"  Volume: {volume.loc[:, (stock, 'volume')].values[0]:,.0f}\")\n",
    "    print(f\"  VWAP: {vwap.loc[:, (stock, 'vwap')].values[0]:.2f}\")\n"
   ]
  },
  {
   "cell_type": "code",
   "execution_count": 88,
   "metadata": {},
   "outputs": [
    {
     "data": {
      "text/html": [
       "<div>\n",
       "<style scoped>\n",
       "    .dataframe tbody tr th:only-of-type {\n",
       "        vertical-align: middle;\n",
       "    }\n",
       "\n",
       "    .dataframe tbody tr th {\n",
       "        vertical-align: top;\n",
       "    }\n",
       "\n",
       "    .dataframe thead tr th {\n",
       "        text-align: left;\n",
       "    }\n",
       "\n",
       "    .dataframe thead tr:last-of-type th {\n",
       "        text-align: right;\n",
       "    }\n",
       "</style>\n",
       "<table border=\"1\" class=\"dataframe\">\n",
       "  <thead>\n",
       "    <tr>\n",
       "      <th></th>\n",
       "      <th colspan=\"7\" halign=\"left\">SPY</th>\n",
       "      <th colspan=\"3\" halign=\"left\">QQQ</th>\n",
       "      <th>...</th>\n",
       "      <th colspan=\"3\" halign=\"left\">JNJ</th>\n",
       "      <th colspan=\"7\" halign=\"left\">JPM</th>\n",
       "    </tr>\n",
       "    <tr>\n",
       "      <th></th>\n",
       "      <th>close</th>\n",
       "      <th>high</th>\n",
       "      <th>low</th>\n",
       "      <th>trade_count</th>\n",
       "      <th>open</th>\n",
       "      <th>volume</th>\n",
       "      <th>vwap</th>\n",
       "      <th>close</th>\n",
       "      <th>high</th>\n",
       "      <th>low</th>\n",
       "      <th>...</th>\n",
       "      <th>open</th>\n",
       "      <th>volume</th>\n",
       "      <th>vwap</th>\n",
       "      <th>close</th>\n",
       "      <th>high</th>\n",
       "      <th>low</th>\n",
       "      <th>trade_count</th>\n",
       "      <th>open</th>\n",
       "      <th>volume</th>\n",
       "      <th>vwap</th>\n",
       "    </tr>\n",
       "    <tr>\n",
       "      <th>timestamp</th>\n",
       "      <th></th>\n",
       "      <th></th>\n",
       "      <th></th>\n",
       "      <th></th>\n",
       "      <th></th>\n",
       "      <th></th>\n",
       "      <th></th>\n",
       "      <th></th>\n",
       "      <th></th>\n",
       "      <th></th>\n",
       "      <th></th>\n",
       "      <th></th>\n",
       "      <th></th>\n",
       "      <th></th>\n",
       "      <th></th>\n",
       "      <th></th>\n",
       "      <th></th>\n",
       "      <th></th>\n",
       "      <th></th>\n",
       "      <th></th>\n",
       "      <th></th>\n",
       "    </tr>\n",
       "  </thead>\n",
       "  <tbody>\n",
       "    <tr>\n",
       "      <th>2024-05-08 04:00:00+00:00</th>\n",
       "      <td>517.19</td>\n",
       "      <td>517.74</td>\n",
       "      <td>515.14</td>\n",
       "      <td>369154</td>\n",
       "      <td>515.26</td>\n",
       "      <td>42047115</td>\n",
       "      <td>516.92131</td>\n",
       "      <td>440.06</td>\n",
       "      <td>441.48</td>\n",
       "      <td>437.55</td>\n",
       "      <td>...</td>\n",
       "      <td>149.12</td>\n",
       "      <td>7735148</td>\n",
       "      <td>149.037034</td>\n",
       "      <td>195.65</td>\n",
       "      <td>196.65</td>\n",
       "      <td>191.0</td>\n",
       "      <td>134463</td>\n",
       "      <td>191.0</td>\n",
       "      <td>9227561</td>\n",
       "      <td>194.278179</td>\n",
       "    </tr>\n",
       "  </tbody>\n",
       "</table>\n",
       "<p>1 rows × 84 columns</p>\n",
       "</div>"
      ],
      "text/plain": [
       "                              SPY                                      \\\n",
       "                            close    high     low trade_count    open   \n",
       "timestamp                                                               \n",
       "2024-05-08 04:00:00+00:00  517.19  517.74  515.14      369154  515.26   \n",
       "\n",
       "                                                   QQQ                  ...  \\\n",
       "                             volume       vwap   close    high     low  ...   \n",
       "timestamp                                                               ...   \n",
       "2024-05-08 04:00:00+00:00  42047115  516.92131  440.06  441.48  437.55  ...   \n",
       "\n",
       "                              JNJ                          JPM                 \\\n",
       "                             open   volume        vwap   close    high    low   \n",
       "timestamp                                                                       \n",
       "2024-05-08 04:00:00+00:00  149.12  7735148  149.037034  195.65  196.65  191.0   \n",
       "\n",
       "                                                                   \n",
       "                          trade_count   open   volume        vwap  \n",
       "timestamp                                                          \n",
       "2024-05-08 04:00:00+00:00      134463  191.0  9227561  194.278179  \n",
       "\n",
       "[1 rows x 84 columns]"
      ]
     },
     "execution_count": 88,
     "metadata": {},
     "output_type": "execute_result"
    }
   ],
   "source": [
    "portfolio_concat_df"
   ]
  },
  {
   "cell_type": "code",
   "execution_count": 89,
   "metadata": {},
   "outputs": [
    {
     "name": "stdout",
     "output_type": "stream",
     "text": [
      "Stocks trading above VWAP:\n",
      "SPY: Above VWAP by 0.05%\n",
      "QQQ: Above VWAP by 0.06%\n",
      "IWM: Above VWAP by 0.15%\n",
      "AAPL: Above VWAP by 0.14%\n",
      "MSFT: Above VWAP by 0.03%\n",
      "AMZN: Above VWAP by 0.19%\n",
      "META: Above VWAP by 0.12%\n",
      "TSLA: Above VWAP by 0.52%\n",
      "NVDA: Above VWAP by 0.11%\n",
      "JPM: Above VWAP by 0.71%\n",
      "\n",
      "Stocks trading below VWAP:\n",
      "GOOGL: Below VWAP by -0.10%\n",
      "JNJ: Below VWAP by -0.06%\n",
      "\n",
      "Insights:\n",
      "- The majority of stocks are trading above their VWAP, indicating a bullish sentiment in the market.\n",
      "- JPM has the highest positive distance from VWAP, trading 0.71% above its VWAP.\n",
      "- GOOGL has the highest negative distance from VWAP, trading -0.10% below its VWAP.\n",
      "Data successfully written to ../data/raw_data//vwap_analysis.csv\n"
     ]
    }
   ],
   "source": [
    "# Compare closing price with VWAP for each stock and calculate distance from VWAP as a percentage\n",
    "above_vwap = {}\n",
    "below_vwap = {}\n",
    "for stock in portfolio_concat_df.columns.get_level_values(0).unique():\n",
    "    close_price = portfolio_concat_df.loc[:, (stock, \"close\")].values[0]\n",
    "    vwap_price = portfolio_concat_df.loc[:, (stock, 'vwap')].values[0]\n",
    "    distance_from_vwap_pct = (close_price - vwap_price) / vwap_price * 100\n",
    "    if close_price > vwap_price:\n",
    "        above_vwap[stock] = distance_from_vwap_pct\n",
    "    else:\n",
    "        below_vwap[stock] = distance_from_vwap_pct\n",
    "\n",
    "# Print the stocks trading above their VWAP and the distance as a percentage\n",
    "print(\"Stocks trading above VWAP:\")\n",
    "for stock, distance_pct in above_vwap.items():\n",
    "    print(f\"{stock}: Above VWAP by {distance_pct:.2f}%\")\n",
    "\n",
    "# Print the stocks trading below their VWAP and the distance as a percentage\n",
    "print(\"\\nStocks trading below VWAP:\")\n",
    "for stock, distance_pct in below_vwap.items():\n",
    "    print(f\"{stock}: Below VWAP by {distance_pct:.2f}%\")\n",
    "\n",
    "# Insights\n",
    "print(\"\\nInsights:\")\n",
    "if len(above_vwap) > len(below_vwap):\n",
    "    print(\"- The majority of stocks are trading above their VWAP, indicating a bullish sentiment in the market.\")\n",
    "else:\n",
    "    print(\"- The majority of stocks are trading below their VWAP, indicating a bearish sentiment in the market.\")\n",
    "\n",
    "max_above_stock = max(above_vwap, key=above_vwap.get)\n",
    "max_above_distance_pct = above_vwap[max_above_stock]\n",
    "print(f\"- {max_above_stock} has the highest positive distance from VWAP, trading {max_above_distance_pct:.2f}% above its VWAP.\")\n",
    "\n",
    "max_below_stock = min(below_vwap, key=below_vwap.get)\n",
    "max_below_distance_pct = below_vwap[max_below_stock]\n",
    "print(f\"- {max_below_stock} has the highest negative distance from VWAP, trading {max_below_distance_pct:.2f}% below its VWAP.\")\n",
    "\n",
    "# Convert the dictionaries to DataFrames for easier CSV export\n",
    "above_vwap_df = pd.DataFrame(list(above_vwap.items()), columns=['Stock', 'Distance_Above_VWAP_Pct'])\n",
    "below_vwap_df = pd.DataFrame(list(below_vwap.items()), columns=['Stock', 'Distance_Below_VWAP_Pct'])\n",
    "\n",
    "# Combine both DataFrames for a comprehensive view\n",
    "combined_vwap_df = pd.concat([above_vwap_df.assign(Above_VWAP=True), below_vwap_df.assign(Above_VWAP=False)])\n",
    "\n",
    "# Specify the folder path within your project directory where you want to save the CSV\n",
    "folder_path = '../data/raw_data/'\n",
    "file_name = 'vwap_analysis.csv'\n",
    "full_path = f\"{folder_path}/{file_name}\"\n",
    "\n",
    "# Export the DataFrame to CSV\n",
    "combined_vwap_df.to_csv(full_path, index=False)\n",
    "\n",
    "print(f\"Data successfully written to {full_path}\")"
   ]
  },
  {
   "cell_type": "code",
   "execution_count": 90,
   "metadata": {},
   "outputs": [
    {
     "name": "stdout",
     "output_type": "stream",
     "text": [
      "Volume Ranking:\n",
      "TSLA   volume    79,969,488\n",
      "AAPL   volume    45,057,087\n",
      "SPY    volume    42,047,115\n",
      "NVDA   volume    32,572,102\n",
      "AMZN   volume    26,136,350\n",
      "QQQ    volume    24,896,723\n",
      "GOOGL  volume    19,586,146\n",
      "IWM    volume    18,349,403\n",
      "MSFT   volume    11,792,308\n",
      "META   volume    11,683,929\n",
      "JPM    volume     9,227,561\n",
      "JNJ    volume     7,735,148\n",
      "dtype: object\n",
      "\n",
      "Top 3 Most Actively Traded Stocks: TSLA, AAPL, SPY\n",
      "Data successfully written to ../data/raw_data//volume_ranking.csv\n"
     ]
    }
   ],
   "source": [
    "# Calculate total volume for each stock\n",
    "total_volume = portfolio_concat_df.loc[:, (slice(None), 'volume')].sum()\n",
    "\n",
    "# Sort the stocks by total volume in descending order\n",
    "volume_ranking = total_volume.sort_values(ascending=False)\n",
    "\n",
    "# Format volume numbers with commas\n",
    "volume_ranking_formatted = volume_ranking.apply(lambda x: f\"{x:,.0f}\")\n",
    "\n",
    "# Print the volume ranking\n",
    "print(\"Volume Ranking:\")\n",
    "print(volume_ranking_formatted)\n",
    "\n",
    "# Identify the top 3 most actively traded stocks\n",
    "top_traded_stocks = volume_ranking.index.get_level_values(0)[:3].tolist()\n",
    "print(f\"\\nTop 3 Most Actively Traded Stocks: {', '.join(top_traded_stocks)}\")\n",
    "\n",
    "# Specify the path to the folder within your project folder\n",
    "folder_path = '../data/raw_data/'\n",
    "file_name = 'volume_ranking.csv'\n",
    "full_path = f\"{folder_path}/{file_name}\"\n",
    "\n",
    "# Write the formatted volume ranking to a CSV file\n",
    "volume_ranking_formatted.to_csv(full_path, header=True)\n",
    "\n",
    "print(f\"Data successfully written to {full_path}\")"
   ]
  },
  {
   "cell_type": "code",
   "execution_count": 91,
   "metadata": {},
   "outputs": [
    {
     "name": "stdout",
     "output_type": "stream",
     "text": [
      "Securities with potential institutional activity:\n",
      "SPY: Average trade size = 113.90 shares\n",
      "IWM: Average trade size = 138.57 shares\n",
      "\n",
      "Securities with potential retail activity:\n",
      "QQQ: Average trade size = 97.02 shares\n",
      "AAPL: Average trade size = 86.88 shares\n",
      "MSFT: Average trade size = 43.27 shares\n",
      "AMZN: Average trade size = 85.17 shares\n",
      "GOOGL: Average trade size = 81.58 shares\n",
      "META: Average trade size = 52.39 shares\n",
      "TSLA: Average trade size = 88.44 shares\n",
      "NVDA: Average trade size = 52.43 shares\n",
      "JNJ: Average trade size = 82.03 shares\n",
      "JPM: Average trade size = 68.63 shares\n"
     ]
    }
   ],
   "source": [
    "# Calculate the average trade size for each security\n",
    "for stock in portfolio_concat_df.columns.get_level_values(0).unique():\n",
    "    portfolio_concat_df.loc[:, (stock, 'avg_trade_size')] = portfolio_concat_df.loc[:, (stock, 'volume')] / portfolio_concat_df.loc[:, (stock, 'trade_count')]\n",
    "\n",
    "# Identify securities with lower trade count compared to volume\n",
    "institutional_activity = {}\n",
    "for stock in portfolio_concat_df.columns.get_level_values(0).unique():\n",
    "    if portfolio_concat_df.loc[:, (stock, 'avg_trade_size')].values[0] > 100:\n",
    "        institutional_activity[stock] = portfolio_concat_df.loc[:, (stock, 'avg_trade_size')].values[0]\n",
    "\n",
    "print(\"Securities with potential institutional activity:\")\n",
    "for stock, avg_trade_size in institutional_activity.items():\n",
    "    print(f\"{stock}: Average trade size = {avg_trade_size:.2f} shares\")\n",
    "\n",
    "# Identify securities with volume closer to trade count\n",
    "retail_activity = {}\n",
    "for stock in portfolio_concat_df.columns.get_level_values(0).unique():\n",
    "    if portfolio_concat_df.loc[:, (stock, 'avg_trade_size')].values[0] <= 100:\n",
    "        retail_activity[stock] = portfolio_concat_df.loc[:, (stock, 'avg_trade_size')].values[0]\n",
    "\n",
    "print(\"\\nSecurities with potential retail activity:\")\n",
    "for stock, avg_trade_size in retail_activity.items():\n",
    "    print(f\"{stock}: Average trade size = {avg_trade_size:.2f} shares\")\n"
   ]
  },
  {
   "cell_type": "code",
   "execution_count": 92,
   "metadata": {},
   "outputs": [
    {
     "name": "stdout",
     "output_type": "stream",
     "text": [
      "Institutional activity data saved to ../data/raw_data/institutional_activity.csv\n",
      "Retail activity data saved to ../data/raw_data/retail_activity.csv\n"
     ]
    }
   ],
   "source": [
    "import csv\n",
    "\n",
    "# Assuming the calculations and dictionary creations are done as per your provided code\n",
    "\n",
    "# Define the folder path where you want to save the CSV files\n",
    "folder_path = '../data/raw_data/'\n",
    "\n",
    "# Export institutional activity to CSV\n",
    "institutional_csv_file = folder_path + 'institutional_activity.csv'\n",
    "with open(institutional_csv_file, 'w', newline='') as file:\n",
    "    writer = csv.writer(file)\n",
    "    writer.writerow(['Stock', 'Average Trade Size'])\n",
    "    for stock, avg_trade_size in institutional_activity.items():\n",
    "        writer.writerow([stock, avg_trade_size])\n",
    "\n",
    "print(f\"Institutional activity data saved to {institutional_csv_file}\")\n",
    "\n",
    "# Export retail activity to CSV\n",
    "retail_csv_file = folder_path + 'retail_activity.csv'\n",
    "with open(retail_csv_file, 'w', newline='') as file:\n",
    "    writer = csv.writer(file)\n",
    "    writer.writerow(['Stock', 'Average Trade Size'])\n",
    "    for stock, avg_trade_size in retail_activity.items():\n",
    "        writer.writerow([stock, avg_trade_size])\n",
    "\n",
    "print(f\"Retail activity data saved to {retail_csv_file}\")"
   ]
  },
  {
   "cell_type": "code",
   "execution_count": 93,
   "metadata": {
    "execution": {
     "iopub.execute_input": "2024-05-09T00:16:18.827432Z",
     "iopub.status.busy": "2024-05-09T00:16:18.827432Z",
     "iopub.status.idle": "2024-05-09T00:16:21.079427Z",
     "shell.execute_reply": "2024-05-09T00:16:21.078434Z"
    }
   },
   "outputs": [
    {
     "data": {},
     "metadata": {},
     "output_type": "display_data"
    },
    {
     "data": {
      "application/vnd.holoviews_exec.v0+json": "",
      "text/html": [
       "<div id='p11282'>\n",
       "  <div id=\"a71b4406-a8e9-4326-a55f-df297707409b\" data-root-id=\"p11282\" style=\"display: contents;\"></div>\n",
       "</div>\n",
       "<script type=\"application/javascript\">(function(root) {\n",
       "  var docs_json = {\"93b09b1f-7a7b-4519-82fd-f6989811b26c\":{\"version\":\"3.4.1\",\"title\":\"Bokeh Application\",\"roots\":[{\"type\":\"object\",\"name\":\"Row\",\"id\":\"p11282\",\"attributes\":{\"name\":\"Row23428\",\"tags\":[\"embedded\"],\"stylesheets\":[\"\\n:host(.pn-loading):before, .pn-loading:before {\\n  background-color: #c3c3c3;\\n  mask-size: auto calc(min(50%, 400px));\\n  -webkit-mask-size: auto calc(min(50%, 400px));\\n}\",{\"type\":\"object\",\"name\":\"ImportedStyleSheet\",\"id\":\"p11285\",\"attributes\":{\"url\":\"https://cdn.holoviz.org/panel/1.4.2/dist/css/loading.css\"}},{\"type\":\"object\",\"name\":\"ImportedStyleSheet\",\"id\":\"p11342\",\"attributes\":{\"url\":\"https://cdn.holoviz.org/panel/1.4.2/dist/css/listpanel.css\"}},{\"type\":\"object\",\"name\":\"ImportedStyleSheet\",\"id\":\"p11283\",\"attributes\":{\"url\":\"https://cdn.holoviz.org/panel/1.4.2/dist/bundled/theme/default.css\"}},{\"type\":\"object\",\"name\":\"ImportedStyleSheet\",\"id\":\"p11284\",\"attributes\":{\"url\":\"https://cdn.holoviz.org/panel/1.4.2/dist/bundled/theme/native.css\"}}],\"min_width\":800,\"margin\":0,\"sizing_mode\":\"stretch_width\",\"align\":\"start\",\"children\":[{\"type\":\"object\",\"name\":\"Spacer\",\"id\":\"p11286\",\"attributes\":{\"name\":\"HSpacer23435\",\"stylesheets\":[\"\\n:host(.pn-loading):before, .pn-loading:before {\\n  background-color: #c3c3c3;\\n  mask-size: auto calc(min(50%, 400px));\\n  -webkit-mask-size: auto calc(min(50%, 400px));\\n}\",{\"id\":\"p11285\"},{\"id\":\"p11283\"},{\"id\":\"p11284\"}],\"margin\":0,\"sizing_mode\":\"stretch_width\",\"align\":\"start\"}},{\"type\":\"object\",\"name\":\"Figure\",\"id\":\"p11294\",\"attributes\":{\"width\":800,\"height\":400,\"margin\":[5,10],\"sizing_mode\":\"fixed\",\"align\":\"start\",\"x_range\":{\"type\":\"object\",\"name\":\"FactorRange\",\"id\":\"p11287\",\"attributes\":{\"tags\":[[[\"timestamp\",\"timestamp\",null],[\"Variable\",\"Variable\",null]],[]],\"factors\":[[\"2024-05-08 04:00:00\",\"JPM_high_low_range\"],[\"2024-05-08 04:00:00\",\"JNJ_high_low_range\"],[\"2024-05-08 04:00:00\",\"NVDA_high_low_range\"],[\"2024-05-08 04:00:00\",\"TSLA_high_low_range\"],[\"2024-05-08 04:00:00\",\"META_high_low_range\"],[\"2024-05-08 04:00:00\",\"GOOGL_high_low_range\"],[\"2024-05-08 04:00:00\",\"AMZN_high_low_range\"],[\"2024-05-08 04:00:00\",\"MSFT_high_low_range\"],[\"2024-05-08 04:00:00\",\"AAPL_high_low_range\"],[\"2024-05-08 04:00:00\",\"IWM_high_low_range\"],[\"2024-05-08 04:00:00\",\"QQQ_high_low_range\"],[\"2024-05-08 04:00:00\",\"SPY_high_low_range\"]]}},\"y_range\":{\"type\":\"object\",\"name\":\"Range1d\",\"id\":\"p11288\",\"attributes\":{\"tags\":[[[\"value\",\"value\",null]],{\"type\":\"map\",\"entries\":[[\"invert_yaxis\",false],[\"autorange\",false]]}],\"end\":19.41100000000001,\"reset_start\":0.0,\"reset_end\":19.41100000000001}},\"x_scale\":{\"type\":\"object\",\"name\":\"CategoricalScale\",\"id\":\"p11304\"},\"y_scale\":{\"type\":\"object\",\"name\":\"LinearScale\",\"id\":\"p11305\"},\"title\":{\"type\":\"object\",\"name\":\"Title\",\"id\":\"p11297\",\"attributes\":{\"text\":\"Daily Price Range (Volatility)\",\"text_color\":\"black\",\"text_font_size\":\"12pt\"}},\"renderers\":[{\"type\":\"object\",\"name\":\"GlyphRenderer\",\"id\":\"p11335\",\"attributes\":{\"data_source\":{\"type\":\"object\",\"name\":\"ColumnDataSource\",\"id\":\"p11326\",\"attributes\":{\"selected\":{\"type\":\"object\",\"name\":\"Selection\",\"id\":\"p11327\",\"attributes\":{\"indices\":[],\"line_indices\":[]}},\"selection_policy\":{\"type\":\"object\",\"name\":\"UnionRenderers\",\"id\":\"p11328\"},\"data\":{\"type\":\"map\",\"entries\":[[\"xoffsets\",[[\"2024-05-08 04:00:00\",\"SPY_high_low_range\"],[\"2024-05-08 04:00:00\",\"QQQ_high_low_range\"],[\"2024-05-08 04:00:00\",\"IWM_high_low_range\"],[\"2024-05-08 04:00:00\",\"AAPL_high_low_range\"],[\"2024-05-08 04:00:00\",\"MSFT_high_low_range\"],[\"2024-05-08 04:00:00\",\"AMZN_high_low_range\"],[\"2024-05-08 04:00:00\",\"GOOGL_high_low_range\"],[\"2024-05-08 04:00:00\",\"META_high_low_range\"],[\"2024-05-08 04:00:00\",\"TSLA_high_low_range\"],[\"2024-05-08 04:00:00\",\"NVDA_high_low_range\"],[\"2024-05-08 04:00:00\",\"JNJ_high_low_range\"],[\"2024-05-08 04:00:00\",\"JPM_high_low_range\"]]],[\"value\",{\"type\":\"ndarray\",\"array\":{\"type\":\"bytes\",\"data\":\"AM3MzMzMBECAPQrXo3APQIBmZmZmZvY/AFK4HoXr+T/ASuoENBEWQICPwvUoXABAgHA9Ctej9j8ALbKd7ycpQKBwPQrXoxdAQArXo3C9MUCAFK5H4XrwP6CZmZmZmRZA\"},\"shape\":[12],\"dtype\":\"float64\",\"order\":\"little\"}],[\"timestamp\",[\"2024-05-08 04:00:00\",\"2024-05-08 04:00:00\",\"2024-05-08 04:00:00\",\"2024-05-08 04:00:00\",\"2024-05-08 04:00:00\",\"2024-05-08 04:00:00\",\"2024-05-08 04:00:00\",\"2024-05-08 04:00:00\",\"2024-05-08 04:00:00\",\"2024-05-08 04:00:00\",\"2024-05-08 04:00:00\",\"2024-05-08 04:00:00\"]],[\"Variable\",[\"SPY_high_low_range\",\"QQQ_high_low_range\",\"IWM_high_low_range\",\"AAPL_high_low_range\",\"MSFT_high_low_range\",\"AMZN_high_low_range\",\"GOOGL_high_low_range\",\"META_high_low_range\",\"TSLA_high_low_range\",\"NVDA_high_low_range\",\"JNJ_high_low_range\",\"JPM_high_low_range\"]]]}}},\"view\":{\"type\":\"object\",\"name\":\"CDSView\",\"id\":\"p11336\",\"attributes\":{\"filter\":{\"type\":\"object\",\"name\":\"AllIndices\",\"id\":\"p11337\"}}},\"glyph\":{\"type\":\"object\",\"name\":\"VBar\",\"id\":\"p11332\",\"attributes\":{\"tags\":[\"apply_ranges\"],\"x\":{\"type\":\"field\",\"field\":\"xoffsets\"},\"width\":{\"type\":\"value\",\"value\":0.8},\"top\":{\"type\":\"field\",\"field\":\"value\"},\"fill_color\":{\"type\":\"field\",\"field\":\"Variable\",\"transform\":{\"type\":\"object\",\"name\":\"CategoricalColorMapper\",\"id\":\"p11325\",\"attributes\":{\"palette\":[\"#30a2da\",\"#fc4f30\",\"#e5ae38\",\"#6d904f\",\"#8b8b8b\",\"#17becf\",\"#9467bd\",\"#d62728\",\"#1f77b4\",\"#e377c2\",\"#8c564b\",\"#bcbd22\"],\"factors\":[\"SPY_high_low_range\",\"QQQ_high_low_range\",\"IWM_high_low_range\",\"AAPL_high_low_range\",\"MSFT_high_low_range\",\"AMZN_high_low_range\",\"GOOGL_high_low_range\",\"META_high_low_range\",\"TSLA_high_low_range\",\"NVDA_high_low_range\",\"JNJ_high_low_range\",\"JPM_high_low_range\"]}}},\"hatch_color\":{\"type\":\"field\",\"field\":\"Variable\",\"transform\":{\"id\":\"p11325\"}}}},\"selection_glyph\":{\"type\":\"object\",\"name\":\"VBar\",\"id\":\"p11338\",\"attributes\":{\"tags\":[\"apply_ranges\"],\"x\":{\"type\":\"field\",\"field\":\"xoffsets\"},\"width\":{\"type\":\"value\",\"value\":0.8},\"bottom\":{\"type\":\"value\",\"value\":0},\"top\":{\"type\":\"field\",\"field\":\"value\"},\"line_color\":{\"type\":\"value\",\"value\":\"black\"},\"line_alpha\":{\"type\":\"value\",\"value\":1.0},\"line_width\":{\"type\":\"value\",\"value\":1},\"line_join\":{\"type\":\"value\",\"value\":\"bevel\"},\"line_cap\":{\"type\":\"value\",\"value\":\"butt\"},\"line_dash\":{\"type\":\"value\",\"value\":[]},\"line_dash_offset\":{\"type\":\"value\",\"value\":0},\"fill_color\":{\"type\":\"field\",\"field\":\"Variable\",\"transform\":{\"id\":\"p11325\"}},\"fill_alpha\":{\"type\":\"value\",\"value\":1.0},\"hatch_color\":{\"type\":\"field\",\"field\":\"Variable\",\"transform\":{\"id\":\"p11325\"}},\"hatch_alpha\":{\"type\":\"value\",\"value\":1.0},\"hatch_scale\":{\"type\":\"value\",\"value\":12.0},\"hatch_pattern\":{\"type\":\"value\",\"value\":null},\"hatch_weight\":{\"type\":\"value\",\"value\":1.0}}},\"nonselection_glyph\":{\"type\":\"object\",\"name\":\"VBar\",\"id\":\"p11333\",\"attributes\":{\"tags\":[\"apply_ranges\"],\"x\":{\"type\":\"field\",\"field\":\"xoffsets\"},\"width\":{\"type\":\"value\",\"value\":0.8},\"top\":{\"type\":\"field\",\"field\":\"value\"},\"line_alpha\":{\"type\":\"value\",\"value\":0.1},\"fill_color\":{\"type\":\"field\",\"field\":\"Variable\",\"transform\":{\"id\":\"p11325\"}},\"fill_alpha\":{\"type\":\"value\",\"value\":0.1},\"hatch_color\":{\"type\":\"field\",\"field\":\"Variable\",\"transform\":{\"id\":\"p11325\"}},\"hatch_alpha\":{\"type\":\"value\",\"value\":0.1}}},\"muted_glyph\":{\"type\":\"object\",\"name\":\"VBar\",\"id\":\"p11334\",\"attributes\":{\"tags\":[\"apply_ranges\"],\"x\":{\"type\":\"field\",\"field\":\"xoffsets\"},\"width\":{\"type\":\"value\",\"value\":0.8},\"top\":{\"type\":\"field\",\"field\":\"value\"},\"line_alpha\":{\"type\":\"value\",\"value\":0.2},\"fill_color\":{\"type\":\"field\",\"field\":\"Variable\",\"transform\":{\"id\":\"p11325\"}},\"fill_alpha\":{\"type\":\"value\",\"value\":0.2},\"hatch_color\":{\"type\":\"field\",\"field\":\"Variable\",\"transform\":{\"id\":\"p11325\"}},\"hatch_alpha\":{\"type\":\"value\",\"value\":0.2}}}}}],\"toolbar\":{\"type\":\"object\",\"name\":\"Toolbar\",\"id\":\"p11303\",\"attributes\":{\"tools\":[{\"type\":\"object\",\"name\":\"WheelZoomTool\",\"id\":\"p11292\",\"attributes\":{\"tags\":[\"hv_created\"],\"renderers\":\"auto\",\"zoom_together\":\"none\"}},{\"type\":\"object\",\"name\":\"HoverTool\",\"id\":\"p11293\",\"attributes\":{\"tags\":[\"hv_created\"],\"renderers\":[{\"id\":\"p11335\"}],\"tooltips\":[[\"timestamp\",\"@{timestamp}\"],[\"Variable\",\"@{Variable}\"],[\"value\",\"@{value}\"]]}},{\"type\":\"object\",\"name\":\"SaveTool\",\"id\":\"p11316\"},{\"type\":\"object\",\"name\":\"PanTool\",\"id\":\"p11317\"},{\"type\":\"object\",\"name\":\"BoxZoomTool\",\"id\":\"p11318\",\"attributes\":{\"overlay\":{\"type\":\"object\",\"name\":\"BoxAnnotation\",\"id\":\"p11319\",\"attributes\":{\"syncable\":false,\"level\":\"overlay\",\"visible\":false,\"left\":{\"type\":\"number\",\"value\":\"nan\"},\"right\":{\"type\":\"number\",\"value\":\"nan\"},\"top\":{\"type\":\"number\",\"value\":\"nan\"},\"bottom\":{\"type\":\"number\",\"value\":\"nan\"},\"left_units\":\"canvas\",\"right_units\":\"canvas\",\"top_units\":\"canvas\",\"bottom_units\":\"canvas\",\"line_color\":\"black\",\"line_alpha\":1.0,\"line_width\":2,\"line_dash\":[4,4],\"fill_color\":\"lightgrey\",\"fill_alpha\":0.5}}}},{\"type\":\"object\",\"name\":\"ResetTool\",\"id\":\"p11324\"}],\"active_drag\":{\"id\":\"p11317\"},\"active_scroll\":{\"id\":\"p11292\"}}},\"left\":[{\"type\":\"object\",\"name\":\"LinearAxis\",\"id\":\"p11311\",\"attributes\":{\"ticker\":{\"type\":\"object\",\"name\":\"BasicTicker\",\"id\":\"p11312\",\"attributes\":{\"mantissas\":[1,2,5]}},\"formatter\":{\"type\":\"object\",\"name\":\"BasicTickFormatter\",\"id\":\"p11313\"},\"axis_label\":\"High-Low Price Range\",\"major_label_policy\":{\"type\":\"object\",\"name\":\"AllLabels\",\"id\":\"p11314\"}}}],\"below\":[{\"type\":\"object\",\"name\":\"CategoricalAxis\",\"id\":\"p11306\",\"attributes\":{\"ticker\":{\"type\":\"object\",\"name\":\"CategoricalTicker\",\"id\":\"p11307\"},\"formatter\":{\"type\":\"object\",\"name\":\"CategoricalTickFormatter\",\"id\":\"p11308\"},\"axis_label\":\"Date\",\"major_label_orientation\":0.7853981633974483,\"major_label_policy\":{\"type\":\"object\",\"name\":\"AllLabels\",\"id\":\"p11309\"}}}],\"center\":[{\"type\":\"object\",\"name\":\"Grid\",\"id\":\"p11310\",\"attributes\":{\"axis\":{\"id\":\"p11306\"},\"grid_line_color\":null}},{\"type\":\"object\",\"name\":\"Grid\",\"id\":\"p11315\",\"attributes\":{\"dimension\":1,\"axis\":{\"id\":\"p11311\"},\"grid_line_color\":null}}],\"min_border_top\":10,\"min_border_bottom\":10,\"min_border_left\":10,\"min_border_right\":10,\"output_backend\":\"webgl\"}},{\"type\":\"object\",\"name\":\"Spacer\",\"id\":\"p11340\",\"attributes\":{\"name\":\"HSpacer23436\",\"stylesheets\":[\"\\n:host(.pn-loading):before, .pn-loading:before {\\n  background-color: #c3c3c3;\\n  mask-size: auto calc(min(50%, 400px));\\n  -webkit-mask-size: auto calc(min(50%, 400px));\\n}\",{\"id\":\"p11285\"},{\"id\":\"p11283\"},{\"id\":\"p11284\"}],\"margin\":0,\"sizing_mode\":\"stretch_width\",\"align\":\"start\"}}]}}],\"defs\":[{\"type\":\"model\",\"name\":\"ReactiveHTML1\"},{\"type\":\"model\",\"name\":\"FlexBox1\",\"properties\":[{\"name\":\"align_content\",\"kind\":\"Any\",\"default\":\"flex-start\"},{\"name\":\"align_items\",\"kind\":\"Any\",\"default\":\"flex-start\"},{\"name\":\"flex_direction\",\"kind\":\"Any\",\"default\":\"row\"},{\"name\":\"flex_wrap\",\"kind\":\"Any\",\"default\":\"wrap\"},{\"name\":\"gap\",\"kind\":\"Any\",\"default\":\"\"},{\"name\":\"justify_content\",\"kind\":\"Any\",\"default\":\"flex-start\"}]},{\"type\":\"model\",\"name\":\"FloatPanel1\",\"properties\":[{\"name\":\"config\",\"kind\":\"Any\",\"default\":{\"type\":\"map\"}},{\"name\":\"contained\",\"kind\":\"Any\",\"default\":true},{\"name\":\"position\",\"kind\":\"Any\",\"default\":\"right-top\"},{\"name\":\"offsetx\",\"kind\":\"Any\",\"default\":null},{\"name\":\"offsety\",\"kind\":\"Any\",\"default\":null},{\"name\":\"theme\",\"kind\":\"Any\",\"default\":\"primary\"},{\"name\":\"status\",\"kind\":\"Any\",\"default\":\"normalized\"}]},{\"type\":\"model\",\"name\":\"GridStack1\",\"properties\":[{\"name\":\"mode\",\"kind\":\"Any\",\"default\":\"warn\"},{\"name\":\"ncols\",\"kind\":\"Any\",\"default\":null},{\"name\":\"nrows\",\"kind\":\"Any\",\"default\":null},{\"name\":\"allow_resize\",\"kind\":\"Any\",\"default\":true},{\"name\":\"allow_drag\",\"kind\":\"Any\",\"default\":true},{\"name\":\"state\",\"kind\":\"Any\",\"default\":[]}]},{\"type\":\"model\",\"name\":\"drag1\",\"properties\":[{\"name\":\"slider_width\",\"kind\":\"Any\",\"default\":5},{\"name\":\"slider_color\",\"kind\":\"Any\",\"default\":\"black\"},{\"name\":\"value\",\"kind\":\"Any\",\"default\":50}]},{\"type\":\"model\",\"name\":\"click1\",\"properties\":[{\"name\":\"terminal_output\",\"kind\":\"Any\",\"default\":\"\"},{\"name\":\"debug_name\",\"kind\":\"Any\",\"default\":\"\"},{\"name\":\"clears\",\"kind\":\"Any\",\"default\":0}]},{\"type\":\"model\",\"name\":\"FastWrapper1\",\"properties\":[{\"name\":\"object\",\"kind\":\"Any\",\"default\":null},{\"name\":\"style\",\"kind\":\"Any\",\"default\":null}]},{\"type\":\"model\",\"name\":\"NotificationAreaBase1\",\"properties\":[{\"name\":\"js_events\",\"kind\":\"Any\",\"default\":{\"type\":\"map\"}},{\"name\":\"position\",\"kind\":\"Any\",\"default\":\"bottom-right\"},{\"name\":\"_clear\",\"kind\":\"Any\",\"default\":0}]},{\"type\":\"model\",\"name\":\"NotificationArea1\",\"properties\":[{\"name\":\"js_events\",\"kind\":\"Any\",\"default\":{\"type\":\"map\"}},{\"name\":\"notifications\",\"kind\":\"Any\",\"default\":[]},{\"name\":\"position\",\"kind\":\"Any\",\"default\":\"bottom-right\"},{\"name\":\"_clear\",\"kind\":\"Any\",\"default\":0},{\"name\":\"types\",\"kind\":\"Any\",\"default\":[{\"type\":\"map\",\"entries\":[[\"type\",\"warning\"],[\"background\",\"#ffc107\"],[\"icon\",{\"type\":\"map\",\"entries\":[[\"className\",\"fas fa-exclamation-triangle\"],[\"tagName\",\"i\"],[\"color\",\"white\"]]}]]},{\"type\":\"map\",\"entries\":[[\"type\",\"info\"],[\"background\",\"#007bff\"],[\"icon\",{\"type\":\"map\",\"entries\":[[\"className\",\"fas fa-info-circle\"],[\"tagName\",\"i\"],[\"color\",\"white\"]]}]]}]}]},{\"type\":\"model\",\"name\":\"Notification\",\"properties\":[{\"name\":\"background\",\"kind\":\"Any\",\"default\":null},{\"name\":\"duration\",\"kind\":\"Any\",\"default\":3000},{\"name\":\"icon\",\"kind\":\"Any\",\"default\":null},{\"name\":\"message\",\"kind\":\"Any\",\"default\":\"\"},{\"name\":\"notification_type\",\"kind\":\"Any\",\"default\":null},{\"name\":\"_destroyed\",\"kind\":\"Any\",\"default\":false}]},{\"type\":\"model\",\"name\":\"TemplateActions1\",\"properties\":[{\"name\":\"open_modal\",\"kind\":\"Any\",\"default\":0},{\"name\":\"close_modal\",\"kind\":\"Any\",\"default\":0}]},{\"type\":\"model\",\"name\":\"BootstrapTemplateActions1\",\"properties\":[{\"name\":\"open_modal\",\"kind\":\"Any\",\"default\":0},{\"name\":\"close_modal\",\"kind\":\"Any\",\"default\":0}]},{\"type\":\"model\",\"name\":\"TemplateEditor1\",\"properties\":[{\"name\":\"layout\",\"kind\":\"Any\",\"default\":[]}]},{\"type\":\"model\",\"name\":\"MaterialTemplateActions1\",\"properties\":[{\"name\":\"open_modal\",\"kind\":\"Any\",\"default\":0},{\"name\":\"close_modal\",\"kind\":\"Any\",\"default\":0}]},{\"type\":\"model\",\"name\":\"copy_to_clipboard1\",\"properties\":[{\"name\":\"fill\",\"kind\":\"Any\",\"default\":\"none\"},{\"name\":\"value\",\"kind\":\"Any\",\"default\":null}]}]}};\n",
       "  var render_items = [{\"docid\":\"93b09b1f-7a7b-4519-82fd-f6989811b26c\",\"roots\":{\"p11282\":\"a71b4406-a8e9-4326-a55f-df297707409b\"},\"root_ids\":[\"p11282\"]}];\n",
       "  var docs = Object.values(docs_json)\n",
       "  if (!docs) {\n",
       "    return\n",
       "  }\n",
       "  const py_version = docs[0].version.replace('rc', '-rc.').replace('.dev', '-dev.')\n",
       "  function embed_document(root) {\n",
       "    var Bokeh = get_bokeh(root)\n",
       "    Bokeh.embed.embed_items_notebook(docs_json, render_items);\n",
       "    for (const render_item of render_items) {\n",
       "      for (const root_id of render_item.root_ids) {\n",
       "\tconst id_el = document.getElementById(root_id)\n",
       "\tif (id_el.children.length && (id_el.children[0].className === 'bk-root')) {\n",
       "\t  const root_el = id_el.children[0]\n",
       "\t  root_el.id = root_el.id + '-rendered'\n",
       "\t}\n",
       "      }\n",
       "    }\n",
       "  }\n",
       "  function get_bokeh(root) {\n",
       "    if (root.Bokeh === undefined) {\n",
       "      return null\n",
       "    } else if (root.Bokeh.version !== py_version) {\n",
       "      if (root.Bokeh.versions === undefined || !root.Bokeh.versions.has(py_version)) {\n",
       "\treturn null\n",
       "      }\n",
       "      return root.Bokeh.versions.get(py_version);\n",
       "    } else if (root.Bokeh.version === py_version) {\n",
       "      return root.Bokeh\n",
       "    }\n",
       "    return null\n",
       "  }\n",
       "  function is_loaded(root) {\n",
       "    var Bokeh = get_bokeh(root)\n",
       "    return (Bokeh != null && Bokeh.Panel !== undefined)\n",
       "  }\n",
       "  if (is_loaded(root)) {\n",
       "    embed_document(root);\n",
       "  } else {\n",
       "    var attempts = 0;\n",
       "    var timer = setInterval(function(root) {\n",
       "      if (is_loaded(root)) {\n",
       "        clearInterval(timer);\n",
       "        embed_document(root);\n",
       "      } else if (document.readyState == \"complete\") {\n",
       "        attempts++;\n",
       "        if (attempts > 200) {\n",
       "          clearInterval(timer);\n",
       "\t  var Bokeh = get_bokeh(root)\n",
       "\t  if (Bokeh == null || Bokeh.Panel == null) {\n",
       "            console.warn(\"Panel: ERROR: Unable to run Panel code because Bokeh or Panel library is missing\");\n",
       "\t  } else {\n",
       "\t    console.warn(\"Panel: WARNING: Attempting to render but not all required libraries could be resolved.\")\n",
       "\t    embed_document(root)\n",
       "\t  }\n",
       "        }\n",
       "      }\n",
       "    }, 25, root)\n",
       "  }\n",
       "})(window);</script>"
      ],
      "text/plain": [
       ":Bars   [timestamp,Variable]   (value)"
      ]
     },
     "execution_count": 93,
     "metadata": {
      "application/vnd.holoviews_exec.v0+json": {
       "id": "p11282"
      }
     },
     "output_type": "execute_result"
    }
   ],
   "source": [
    "# Create a copy of the DataFrame for temporary modifications\n",
    "temp_df = portfolio_concat_df.copy()\n",
    "\n",
    "# Ensuring column names are strings (useful if DataFrame has MultiIndex columns)\n",
    "if isinstance(temp_df.columns, pd.MultiIndex):\n",
    "    temp_df.columns = ['_'.join(col).strip() for col in temp_df.columns.values]\n",
    "\n",
    "# Now, calculate the high-low range for each stock\n",
    "# Note: Since we've changed the column names in the copy, we no longer use tuples to reference them\n",
    "for ticker in tickers:\n",
    "    high_col = f'{ticker}_high'\n",
    "    low_col = f'{ticker}_low'\n",
    "    range_col = f'{ticker}_high_low_range'\n",
    "    temp_df[range_col] = temp_df[high_col] - temp_df[low_col]\n",
    "\n",
    "# After fixing the column names in the copy, you can plot without encountering the error\n",
    "# Here, we need to update the column references for plotting as well\n",
    "visualization = temp_df.hvplot.bar(\n",
    "    y=[f'{ticker}_high_low_range' for ticker in tickers],\n",
    "    xlabel='Date', ylabel='High-Low Price Range', width=800, height=400, legend='top_right', title='Daily Price Range (Volatility)'\n",
    ").opts(xrotation=45)\n",
    "\n",
    "# Display the visualization\n",
    "visualization\n"
   ]
  },
  {
   "cell_type": "code",
   "execution_count": 100,
   "metadata": {},
   "outputs": [
    {
     "data": {},
     "metadata": {},
     "output_type": "display_data"
    },
    {
     "data": {
      "application/vnd.holoviews_exec.v0+json": "",
      "text/html": [
       "<div id='p11345'>\n",
       "  <div id=\"d53518c6-ec71-4c4b-9208-51d9ad6007de\" data-root-id=\"p11345\" style=\"display: contents;\"></div>\n",
       "</div>\n",
       "<script type=\"application/javascript\">(function(root) {\n",
       "  var docs_json = {\"9e96e533-2330-46b7-8e1b-a33998765fbd\":{\"version\":\"3.4.1\",\"title\":\"Bokeh Application\",\"roots\":[{\"type\":\"object\",\"name\":\"Row\",\"id\":\"p11345\",\"attributes\":{\"name\":\"Row23792\",\"tags\":[\"embedded\"],\"stylesheets\":[\"\\n:host(.pn-loading):before, .pn-loading:before {\\n  background-color: #c3c3c3;\\n  mask-size: auto calc(min(50%, 400px));\\n  -webkit-mask-size: auto calc(min(50%, 400px));\\n}\",{\"type\":\"object\",\"name\":\"ImportedStyleSheet\",\"id\":\"p11348\",\"attributes\":{\"url\":\"https://cdn.holoviz.org/panel/1.4.2/dist/css/loading.css\"}},{\"type\":\"object\",\"name\":\"ImportedStyleSheet\",\"id\":\"p11405\",\"attributes\":{\"url\":\"https://cdn.holoviz.org/panel/1.4.2/dist/css/listpanel.css\"}},{\"type\":\"object\",\"name\":\"ImportedStyleSheet\",\"id\":\"p11346\",\"attributes\":{\"url\":\"https://cdn.holoviz.org/panel/1.4.2/dist/bundled/theme/default.css\"}},{\"type\":\"object\",\"name\":\"ImportedStyleSheet\",\"id\":\"p11347\",\"attributes\":{\"url\":\"https://cdn.holoviz.org/panel/1.4.2/dist/bundled/theme/native.css\"}}],\"min_width\":800,\"margin\":0,\"sizing_mode\":\"stretch_width\",\"align\":\"start\",\"children\":[{\"type\":\"object\",\"name\":\"Spacer\",\"id\":\"p11349\",\"attributes\":{\"name\":\"HSpacer23799\",\"stylesheets\":[\"\\n:host(.pn-loading):before, .pn-loading:before {\\n  background-color: #c3c3c3;\\n  mask-size: auto calc(min(50%, 400px));\\n  -webkit-mask-size: auto calc(min(50%, 400px));\\n}\",{\"id\":\"p11348\"},{\"id\":\"p11346\"},{\"id\":\"p11347\"}],\"margin\":0,\"sizing_mode\":\"stretch_width\",\"align\":\"start\"}},{\"type\":\"object\",\"name\":\"Figure\",\"id\":\"p11357\",\"attributes\":{\"width\":800,\"height\":400,\"margin\":[5,10],\"sizing_mode\":\"fixed\",\"align\":\"start\",\"x_range\":{\"type\":\"object\",\"name\":\"FactorRange\",\"id\":\"p11350\",\"attributes\":{\"tags\":[[[\"timestamp\",\"timestamp\",null],[\"Variable\",\"Variable\",null]],[]],\"factors\":[[\"2024-05-08 04:00:00\",\"JPM_volume\"],[\"2024-05-08 04:00:00\",\"JNJ_volume\"],[\"2024-05-08 04:00:00\",\"NVDA_volume\"],[\"2024-05-08 04:00:00\",\"TSLA_volume\"],[\"2024-05-08 04:00:00\",\"META_volume\"],[\"2024-05-08 04:00:00\",\"GOOGL_volume\"],[\"2024-05-08 04:00:00\",\"AMZN_volume\"],[\"2024-05-08 04:00:00\",\"MSFT_volume\"],[\"2024-05-08 04:00:00\",\"AAPL_volume\"],[\"2024-05-08 04:00:00\",\"IWM_volume\"],[\"2024-05-08 04:00:00\",\"QQQ_volume\"],[\"2024-05-08 04:00:00\",\"SPY_volume\"]]}},\"y_range\":{\"type\":\"object\",\"name\":\"Range1d\",\"id\":\"p11351\",\"attributes\":{\"tags\":[[[\"value\",\"value\",null]],{\"type\":\"map\",\"entries\":[[\"invert_yaxis\",false],[\"autorange\",false]]}],\"end\":87192922.0,\"reset_start\":0.0,\"reset_end\":87192922.0}},\"x_scale\":{\"type\":\"object\",\"name\":\"CategoricalScale\",\"id\":\"p11367\"},\"y_scale\":{\"type\":\"object\",\"name\":\"LinearScale\",\"id\":\"p11368\"},\"title\":{\"type\":\"object\",\"name\":\"Title\",\"id\":\"p11360\",\"attributes\":{\"text\":\"Trading Volume\",\"text_color\":\"black\",\"text_font_size\":\"12pt\"}},\"renderers\":[{\"type\":\"object\",\"name\":\"GlyphRenderer\",\"id\":\"p11398\",\"attributes\":{\"data_source\":{\"type\":\"object\",\"name\":\"ColumnDataSource\",\"id\":\"p11389\",\"attributes\":{\"selected\":{\"type\":\"object\",\"name\":\"Selection\",\"id\":\"p11390\",\"attributes\":{\"indices\":[],\"line_indices\":[]}},\"selection_policy\":{\"type\":\"object\",\"name\":\"UnionRenderers\",\"id\":\"p11391\"},\"data\":{\"type\":\"map\",\"entries\":[[\"xoffsets\",[[\"2024-05-08 04:00:00\",\"SPY_volume\"],[\"2024-05-08 04:00:00\",\"QQQ_volume\"],[\"2024-05-08 04:00:00\",\"IWM_volume\"],[\"2024-05-08 04:00:00\",\"AAPL_volume\"],[\"2024-05-08 04:00:00\",\"MSFT_volume\"],[\"2024-05-08 04:00:00\",\"AMZN_volume\"],[\"2024-05-08 04:00:00\",\"GOOGL_volume\"],[\"2024-05-08 04:00:00\",\"META_volume\"],[\"2024-05-08 04:00:00\",\"TSLA_volume\"],[\"2024-05-08 04:00:00\",\"NVDA_volume\"],[\"2024-05-08 04:00:00\",\"JNJ_volume\"],[\"2024-05-08 04:00:00\",\"JPM_volume\"]]],[\"value\",{\"type\":\"ndarray\",\"array\":{\"type\":\"bytes\",\"data\":\"i5aBAtPkewFb/RcBP4SvArTvswAez44BYtwqAVlIsgDQPMQExgLxAWwHdgApzYwA\"},\"shape\":[12],\"dtype\":\"int32\",\"order\":\"little\"}],[\"timestamp\",[\"2024-05-08 04:00:00\",\"2024-05-08 04:00:00\",\"2024-05-08 04:00:00\",\"2024-05-08 04:00:00\",\"2024-05-08 04:00:00\",\"2024-05-08 04:00:00\",\"2024-05-08 04:00:00\",\"2024-05-08 04:00:00\",\"2024-05-08 04:00:00\",\"2024-05-08 04:00:00\",\"2024-05-08 04:00:00\",\"2024-05-08 04:00:00\"]],[\"Variable\",[\"SPY_volume\",\"QQQ_volume\",\"IWM_volume\",\"AAPL_volume\",\"MSFT_volume\",\"AMZN_volume\",\"GOOGL_volume\",\"META_volume\",\"TSLA_volume\",\"NVDA_volume\",\"JNJ_volume\",\"JPM_volume\"]]]}}},\"view\":{\"type\":\"object\",\"name\":\"CDSView\",\"id\":\"p11399\",\"attributes\":{\"filter\":{\"type\":\"object\",\"name\":\"AllIndices\",\"id\":\"p11400\"}}},\"glyph\":{\"type\":\"object\",\"name\":\"VBar\",\"id\":\"p11395\",\"attributes\":{\"tags\":[\"apply_ranges\"],\"x\":{\"type\":\"field\",\"field\":\"xoffsets\"},\"width\":{\"type\":\"value\",\"value\":0.8},\"top\":{\"type\":\"field\",\"field\":\"value\"},\"fill_color\":{\"type\":\"field\",\"field\":\"Variable\",\"transform\":{\"type\":\"object\",\"name\":\"CategoricalColorMapper\",\"id\":\"p11388\",\"attributes\":{\"palette\":[\"#30a2da\",\"#fc4f30\",\"#e5ae38\",\"#6d904f\",\"#8b8b8b\",\"#17becf\",\"#9467bd\",\"#d62728\",\"#1f77b4\",\"#e377c2\",\"#8c564b\",\"#bcbd22\"],\"factors\":[\"SPY_volume\",\"QQQ_volume\",\"IWM_volume\",\"AAPL_volume\",\"MSFT_volume\",\"AMZN_volume\",\"GOOGL_volume\",\"META_volume\",\"TSLA_volume\",\"NVDA_volume\",\"JNJ_volume\",\"JPM_volume\"]}}},\"hatch_color\":{\"type\":\"field\",\"field\":\"Variable\",\"transform\":{\"id\":\"p11388\"}}}},\"selection_glyph\":{\"type\":\"object\",\"name\":\"VBar\",\"id\":\"p11401\",\"attributes\":{\"tags\":[\"apply_ranges\"],\"x\":{\"type\":\"field\",\"field\":\"xoffsets\"},\"width\":{\"type\":\"value\",\"value\":0.8},\"bottom\":{\"type\":\"value\",\"value\":0},\"top\":{\"type\":\"field\",\"field\":\"value\"},\"line_color\":{\"type\":\"value\",\"value\":\"black\"},\"line_alpha\":{\"type\":\"value\",\"value\":1.0},\"line_width\":{\"type\":\"value\",\"value\":1},\"line_join\":{\"type\":\"value\",\"value\":\"bevel\"},\"line_cap\":{\"type\":\"value\",\"value\":\"butt\"},\"line_dash\":{\"type\":\"value\",\"value\":[]},\"line_dash_offset\":{\"type\":\"value\",\"value\":0},\"fill_color\":{\"type\":\"field\",\"field\":\"Variable\",\"transform\":{\"id\":\"p11388\"}},\"fill_alpha\":{\"type\":\"value\",\"value\":1.0},\"hatch_color\":{\"type\":\"field\",\"field\":\"Variable\",\"transform\":{\"id\":\"p11388\"}},\"hatch_alpha\":{\"type\":\"value\",\"value\":1.0},\"hatch_scale\":{\"type\":\"value\",\"value\":12.0},\"hatch_pattern\":{\"type\":\"value\",\"value\":null},\"hatch_weight\":{\"type\":\"value\",\"value\":1.0}}},\"nonselection_glyph\":{\"type\":\"object\",\"name\":\"VBar\",\"id\":\"p11396\",\"attributes\":{\"tags\":[\"apply_ranges\"],\"x\":{\"type\":\"field\",\"field\":\"xoffsets\"},\"width\":{\"type\":\"value\",\"value\":0.8},\"top\":{\"type\":\"field\",\"field\":\"value\"},\"line_alpha\":{\"type\":\"value\",\"value\":0.1},\"fill_color\":{\"type\":\"field\",\"field\":\"Variable\",\"transform\":{\"id\":\"p11388\"}},\"fill_alpha\":{\"type\":\"value\",\"value\":0.1},\"hatch_color\":{\"type\":\"field\",\"field\":\"Variable\",\"transform\":{\"id\":\"p11388\"}},\"hatch_alpha\":{\"type\":\"value\",\"value\":0.1}}},\"muted_glyph\":{\"type\":\"object\",\"name\":\"VBar\",\"id\":\"p11397\",\"attributes\":{\"tags\":[\"apply_ranges\"],\"x\":{\"type\":\"field\",\"field\":\"xoffsets\"},\"width\":{\"type\":\"value\",\"value\":0.8},\"top\":{\"type\":\"field\",\"field\":\"value\"},\"line_alpha\":{\"type\":\"value\",\"value\":0.2},\"fill_color\":{\"type\":\"field\",\"field\":\"Variable\",\"transform\":{\"id\":\"p11388\"}},\"fill_alpha\":{\"type\":\"value\",\"value\":0.2},\"hatch_color\":{\"type\":\"field\",\"field\":\"Variable\",\"transform\":{\"id\":\"p11388\"}},\"hatch_alpha\":{\"type\":\"value\",\"value\":0.2}}}}}],\"toolbar\":{\"type\":\"object\",\"name\":\"Toolbar\",\"id\":\"p11366\",\"attributes\":{\"tools\":[{\"type\":\"object\",\"name\":\"WheelZoomTool\",\"id\":\"p11355\",\"attributes\":{\"tags\":[\"hv_created\"],\"renderers\":\"auto\",\"zoom_together\":\"none\"}},{\"type\":\"object\",\"name\":\"HoverTool\",\"id\":\"p11356\",\"attributes\":{\"tags\":[\"hv_created\"],\"renderers\":[{\"id\":\"p11398\"}],\"tooltips\":[[\"timestamp\",\"@{timestamp}\"],[\"Variable\",\"@{Variable}\"],[\"value\",\"@{value}\"]]}},{\"type\":\"object\",\"name\":\"SaveTool\",\"id\":\"p11379\"},{\"type\":\"object\",\"name\":\"PanTool\",\"id\":\"p11380\"},{\"type\":\"object\",\"name\":\"BoxZoomTool\",\"id\":\"p11381\",\"attributes\":{\"overlay\":{\"type\":\"object\",\"name\":\"BoxAnnotation\",\"id\":\"p11382\",\"attributes\":{\"syncable\":false,\"level\":\"overlay\",\"visible\":false,\"left\":{\"type\":\"number\",\"value\":\"nan\"},\"right\":{\"type\":\"number\",\"value\":\"nan\"},\"top\":{\"type\":\"number\",\"value\":\"nan\"},\"bottom\":{\"type\":\"number\",\"value\":\"nan\"},\"left_units\":\"canvas\",\"right_units\":\"canvas\",\"top_units\":\"canvas\",\"bottom_units\":\"canvas\",\"line_color\":\"black\",\"line_alpha\":1.0,\"line_width\":2,\"line_dash\":[4,4],\"fill_color\":\"lightgrey\",\"fill_alpha\":0.5}}}},{\"type\":\"object\",\"name\":\"ResetTool\",\"id\":\"p11387\"}],\"active_drag\":{\"id\":\"p11380\"},\"active_scroll\":{\"id\":\"p11355\"}}},\"left\":[{\"type\":\"object\",\"name\":\"LinearAxis\",\"id\":\"p11374\",\"attributes\":{\"ticker\":{\"type\":\"object\",\"name\":\"BasicTicker\",\"id\":\"p11375\",\"attributes\":{\"mantissas\":[1,2,5]}},\"formatter\":{\"type\":\"object\",\"name\":\"BasicTickFormatter\",\"id\":\"p11376\"},\"axis_label\":\"Volume\",\"major_label_policy\":{\"type\":\"object\",\"name\":\"AllLabels\",\"id\":\"p11377\"}}}],\"below\":[{\"type\":\"object\",\"name\":\"CategoricalAxis\",\"id\":\"p11369\",\"attributes\":{\"ticker\":{\"type\":\"object\",\"name\":\"CategoricalTicker\",\"id\":\"p11370\"},\"formatter\":{\"type\":\"object\",\"name\":\"CategoricalTickFormatter\",\"id\":\"p11371\"},\"axis_label\":\"Date\",\"major_label_orientation\":0.7853981633974483,\"major_label_policy\":{\"type\":\"object\",\"name\":\"AllLabels\",\"id\":\"p11372\"}}}],\"center\":[{\"type\":\"object\",\"name\":\"Grid\",\"id\":\"p11373\",\"attributes\":{\"axis\":{\"id\":\"p11369\"},\"grid_line_color\":null}},{\"type\":\"object\",\"name\":\"Grid\",\"id\":\"p11378\",\"attributes\":{\"dimension\":1,\"axis\":{\"id\":\"p11374\"},\"grid_line_color\":null}}],\"min_border_top\":10,\"min_border_bottom\":10,\"min_border_left\":10,\"min_border_right\":10,\"output_backend\":\"webgl\"}},{\"type\":\"object\",\"name\":\"Spacer\",\"id\":\"p11403\",\"attributes\":{\"name\":\"HSpacer23800\",\"stylesheets\":[\"\\n:host(.pn-loading):before, .pn-loading:before {\\n  background-color: #c3c3c3;\\n  mask-size: auto calc(min(50%, 400px));\\n  -webkit-mask-size: auto calc(min(50%, 400px));\\n}\",{\"id\":\"p11348\"},{\"id\":\"p11346\"},{\"id\":\"p11347\"}],\"margin\":0,\"sizing_mode\":\"stretch_width\",\"align\":\"start\"}}]}}],\"defs\":[{\"type\":\"model\",\"name\":\"ReactiveHTML1\"},{\"type\":\"model\",\"name\":\"FlexBox1\",\"properties\":[{\"name\":\"align_content\",\"kind\":\"Any\",\"default\":\"flex-start\"},{\"name\":\"align_items\",\"kind\":\"Any\",\"default\":\"flex-start\"},{\"name\":\"flex_direction\",\"kind\":\"Any\",\"default\":\"row\"},{\"name\":\"flex_wrap\",\"kind\":\"Any\",\"default\":\"wrap\"},{\"name\":\"gap\",\"kind\":\"Any\",\"default\":\"\"},{\"name\":\"justify_content\",\"kind\":\"Any\",\"default\":\"flex-start\"}]},{\"type\":\"model\",\"name\":\"FloatPanel1\",\"properties\":[{\"name\":\"config\",\"kind\":\"Any\",\"default\":{\"type\":\"map\"}},{\"name\":\"contained\",\"kind\":\"Any\",\"default\":true},{\"name\":\"position\",\"kind\":\"Any\",\"default\":\"right-top\"},{\"name\":\"offsetx\",\"kind\":\"Any\",\"default\":null},{\"name\":\"offsety\",\"kind\":\"Any\",\"default\":null},{\"name\":\"theme\",\"kind\":\"Any\",\"default\":\"primary\"},{\"name\":\"status\",\"kind\":\"Any\",\"default\":\"normalized\"}]},{\"type\":\"model\",\"name\":\"GridStack1\",\"properties\":[{\"name\":\"mode\",\"kind\":\"Any\",\"default\":\"warn\"},{\"name\":\"ncols\",\"kind\":\"Any\",\"default\":null},{\"name\":\"nrows\",\"kind\":\"Any\",\"default\":null},{\"name\":\"allow_resize\",\"kind\":\"Any\",\"default\":true},{\"name\":\"allow_drag\",\"kind\":\"Any\",\"default\":true},{\"name\":\"state\",\"kind\":\"Any\",\"default\":[]}]},{\"type\":\"model\",\"name\":\"drag1\",\"properties\":[{\"name\":\"slider_width\",\"kind\":\"Any\",\"default\":5},{\"name\":\"slider_color\",\"kind\":\"Any\",\"default\":\"black\"},{\"name\":\"value\",\"kind\":\"Any\",\"default\":50}]},{\"type\":\"model\",\"name\":\"click1\",\"properties\":[{\"name\":\"terminal_output\",\"kind\":\"Any\",\"default\":\"\"},{\"name\":\"debug_name\",\"kind\":\"Any\",\"default\":\"\"},{\"name\":\"clears\",\"kind\":\"Any\",\"default\":0}]},{\"type\":\"model\",\"name\":\"FastWrapper1\",\"properties\":[{\"name\":\"object\",\"kind\":\"Any\",\"default\":null},{\"name\":\"style\",\"kind\":\"Any\",\"default\":null}]},{\"type\":\"model\",\"name\":\"NotificationAreaBase1\",\"properties\":[{\"name\":\"js_events\",\"kind\":\"Any\",\"default\":{\"type\":\"map\"}},{\"name\":\"position\",\"kind\":\"Any\",\"default\":\"bottom-right\"},{\"name\":\"_clear\",\"kind\":\"Any\",\"default\":0}]},{\"type\":\"model\",\"name\":\"NotificationArea1\",\"properties\":[{\"name\":\"js_events\",\"kind\":\"Any\",\"default\":{\"type\":\"map\"}},{\"name\":\"notifications\",\"kind\":\"Any\",\"default\":[]},{\"name\":\"position\",\"kind\":\"Any\",\"default\":\"bottom-right\"},{\"name\":\"_clear\",\"kind\":\"Any\",\"default\":0},{\"name\":\"types\",\"kind\":\"Any\",\"default\":[{\"type\":\"map\",\"entries\":[[\"type\",\"warning\"],[\"background\",\"#ffc107\"],[\"icon\",{\"type\":\"map\",\"entries\":[[\"className\",\"fas fa-exclamation-triangle\"],[\"tagName\",\"i\"],[\"color\",\"white\"]]}]]},{\"type\":\"map\",\"entries\":[[\"type\",\"info\"],[\"background\",\"#007bff\"],[\"icon\",{\"type\":\"map\",\"entries\":[[\"className\",\"fas fa-info-circle\"],[\"tagName\",\"i\"],[\"color\",\"white\"]]}]]}]}]},{\"type\":\"model\",\"name\":\"Notification\",\"properties\":[{\"name\":\"background\",\"kind\":\"Any\",\"default\":null},{\"name\":\"duration\",\"kind\":\"Any\",\"default\":3000},{\"name\":\"icon\",\"kind\":\"Any\",\"default\":null},{\"name\":\"message\",\"kind\":\"Any\",\"default\":\"\"},{\"name\":\"notification_type\",\"kind\":\"Any\",\"default\":null},{\"name\":\"_destroyed\",\"kind\":\"Any\",\"default\":false}]},{\"type\":\"model\",\"name\":\"TemplateActions1\",\"properties\":[{\"name\":\"open_modal\",\"kind\":\"Any\",\"default\":0},{\"name\":\"close_modal\",\"kind\":\"Any\",\"default\":0}]},{\"type\":\"model\",\"name\":\"BootstrapTemplateActions1\",\"properties\":[{\"name\":\"open_modal\",\"kind\":\"Any\",\"default\":0},{\"name\":\"close_modal\",\"kind\":\"Any\",\"default\":0}]},{\"type\":\"model\",\"name\":\"TemplateEditor1\",\"properties\":[{\"name\":\"layout\",\"kind\":\"Any\",\"default\":[]}]},{\"type\":\"model\",\"name\":\"MaterialTemplateActions1\",\"properties\":[{\"name\":\"open_modal\",\"kind\":\"Any\",\"default\":0},{\"name\":\"close_modal\",\"kind\":\"Any\",\"default\":0}]},{\"type\":\"model\",\"name\":\"copy_to_clipboard1\",\"properties\":[{\"name\":\"fill\",\"kind\":\"Any\",\"default\":\"none\"},{\"name\":\"value\",\"kind\":\"Any\",\"default\":null}]}]}};\n",
       "  var render_items = [{\"docid\":\"9e96e533-2330-46b7-8e1b-a33998765fbd\",\"roots\":{\"p11345\":\"d53518c6-ec71-4c4b-9208-51d9ad6007de\"},\"root_ids\":[\"p11345\"]}];\n",
       "  var docs = Object.values(docs_json)\n",
       "  if (!docs) {\n",
       "    return\n",
       "  }\n",
       "  const py_version = docs[0].version.replace('rc', '-rc.').replace('.dev', '-dev.')\n",
       "  function embed_document(root) {\n",
       "    var Bokeh = get_bokeh(root)\n",
       "    Bokeh.embed.embed_items_notebook(docs_json, render_items);\n",
       "    for (const render_item of render_items) {\n",
       "      for (const root_id of render_item.root_ids) {\n",
       "\tconst id_el = document.getElementById(root_id)\n",
       "\tif (id_el.children.length && (id_el.children[0].className === 'bk-root')) {\n",
       "\t  const root_el = id_el.children[0]\n",
       "\t  root_el.id = root_el.id + '-rendered'\n",
       "\t}\n",
       "      }\n",
       "    }\n",
       "  }\n",
       "  function get_bokeh(root) {\n",
       "    if (root.Bokeh === undefined) {\n",
       "      return null\n",
       "    } else if (root.Bokeh.version !== py_version) {\n",
       "      if (root.Bokeh.versions === undefined || !root.Bokeh.versions.has(py_version)) {\n",
       "\treturn null\n",
       "      }\n",
       "      return root.Bokeh.versions.get(py_version);\n",
       "    } else if (root.Bokeh.version === py_version) {\n",
       "      return root.Bokeh\n",
       "    }\n",
       "    return null\n",
       "  }\n",
       "  function is_loaded(root) {\n",
       "    var Bokeh = get_bokeh(root)\n",
       "    return (Bokeh != null && Bokeh.Panel !== undefined)\n",
       "  }\n",
       "  if (is_loaded(root)) {\n",
       "    embed_document(root);\n",
       "  } else {\n",
       "    var attempts = 0;\n",
       "    var timer = setInterval(function(root) {\n",
       "      if (is_loaded(root)) {\n",
       "        clearInterval(timer);\n",
       "        embed_document(root);\n",
       "      } else if (document.readyState == \"complete\") {\n",
       "        attempts++;\n",
       "        if (attempts > 200) {\n",
       "          clearInterval(timer);\n",
       "\t  var Bokeh = get_bokeh(root)\n",
       "\t  if (Bokeh == null || Bokeh.Panel == null) {\n",
       "            console.warn(\"Panel: ERROR: Unable to run Panel code because Bokeh or Panel library is missing\");\n",
       "\t  } else {\n",
       "\t    console.warn(\"Panel: WARNING: Attempting to render but not all required libraries could be resolved.\")\n",
       "\t    embed_document(root)\n",
       "\t  }\n",
       "        }\n",
       "      }\n",
       "    }, 25, root)\n",
       "  }\n",
       "})(window);</script>"
      ],
      "text/plain": [
       ":Bars   [timestamp,Variable]   (value)"
      ]
     },
     "execution_count": 100,
     "metadata": {
      "application/vnd.holoviews_exec.v0+json": {
       "id": "p11345"
      }
     },
     "output_type": "execute_result"
    }
   ],
   "source": [
    "\n",
    "# Create a temporary DataFrame for plotting\n",
    "plot_df = portfolio_concat_df.copy()\n",
    "\n",
    "# Convert MultiIndex column names to string if necessary\n",
    "if isinstance(plot_df.columns, pd.MultiIndex):\n",
    "    plot_df.columns = ['_'.join(col).strip() for col in plot_df.columns.values]\n",
    "\n",
    "# Now, use the modified DataFrame for plotting\n",
    "# Update the column references for plotting as they are now single-level strings\n",
    "plot_df.hvplot.bar(\n",
    "    y=[f'{ticker}_volume' for ticker in tickers],\n",
    "    xlabel='Date', ylabel='Volume', width=800, height=400, legend='top_right', title='Trading Volume'\n",
    ").opts(xrotation=45)\n"
   ]
  },
  {
   "cell_type": "code",
   "execution_count": null,
   "metadata": {},
   "outputs": [],
   "source": []
  }
 ],
 "metadata": {
  "kernelspec": {
   "display_name": "dev",
   "language": "python",
   "name": "python3"
  },
  "language_info": {
   "codemirror_mode": {
    "name": "ipython",
    "version": 3
   },
   "file_extension": ".py",
   "mimetype": "text/x-python",
   "name": "python",
   "nbconvert_exporter": "python",
   "pygments_lexer": "ipython3",
   "version": "3.10.13"
  }
 },
 "nbformat": 4,
 "nbformat_minor": 2
}
