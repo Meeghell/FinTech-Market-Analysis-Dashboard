{
 "cells": [
  {
   "cell_type": "code",
   "metadata": {},
   "outputs": [
    {
     "data": {
      "application/javascript": "(function(root) {\n  function now() {\n    return new Date();\n  }\n\n  var force = true;\n  var py_version = '3.4.1'.replace('rc', '-rc.').replace('.dev', '-dev.');\n  var reloading = false;\n  var Bokeh = root.Bokeh;\n\n  if (typeof (root._bokeh_timeout) === \"undefined\" || force) {\n    root._bokeh_timeout = Date.now() + 5000;\n    root._bokeh_failed_load = false;\n  }\n\n  function run_callbacks() {\n    try {\n      root._bokeh_onload_callbacks.forEach(function(callback) {\n        if (callback != null)\n          callback();\n      });\n    } finally {\n      delete root._bokeh_onload_callbacks;\n    }\n    console.debug(\"Bokeh: all callbacks have finished\");\n  }\n\n  function load_libs(css_urls, js_urls, js_modules, js_exports, callback) {\n    if (css_urls == null) css_urls = [];\n    if (js_urls == null) js_urls = [];\n    if (js_modules == null) js_modules = [];\n    if (js_exports == null) js_exports = {};\n\n    root._bokeh_onload_callbacks.push(callback);\n\n    if (root._bokeh_is_loading > 0) {\n      console.debug(\"Bokeh: BokehJS is being loaded, scheduling callback at\", now());\n      return null;\n    }\n    if (js_urls.length === 0 && js_modules.length === 0 && Object.keys(js_exports).length === 0) {\n      run_callbacks();\n      return null;\n    }\n    if (!reloading) {\n      console.debug(\"Bokeh: BokehJS not loaded, scheduling load and callback at\", now());\n    }\n\n    function on_load() {\n      root._bokeh_is_loading--;\n      if (root._bokeh_is_loading === 0) {\n        console.debug(\"Bokeh: all BokehJS libraries/stylesheets loaded\");\n        run_callbacks()\n      }\n    }\n    window._bokeh_on_load = on_load\n\n    function on_error() {\n      console.error(\"failed to load \" + url);\n    }\n\n    var skip = [];\n    if (window.requirejs) {\n      window.requirejs.config({'packages': {}, 'paths': {}, 'shim': {}});\n      root._bokeh_is_loading = css_urls.length + 0;\n    } else {\n      root._bokeh_is_loading = css_urls.length + js_urls.length + js_modules.length + Object.keys(js_exports).length;\n    }\n\n    var existing_stylesheets = []\n    var links = document.getElementsByTagName('link')\n    for (var i = 0; i < links.length; i++) {\n      var link = links[i]\n      if (link.href != null) {\n\texisting_stylesheets.push(link.href)\n      }\n    }\n    for (var i = 0; i < css_urls.length; i++) {\n      var url = css_urls[i];\n      if (existing_stylesheets.indexOf(url) !== -1) {\n\ton_load()\n\tcontinue;\n      }\n      const element = document.createElement(\"link\");\n      element.onload = on_load;\n      element.onerror = on_error;\n      element.rel = \"stylesheet\";\n      element.type = \"text/css\";\n      element.href = url;\n      console.debug(\"Bokeh: injecting link tag for BokehJS stylesheet: \", url);\n      document.body.appendChild(element);\n    }    var existing_scripts = []\n    var scripts = document.getElementsByTagName('script')\n    for (var i = 0; i < scripts.length; i++) {\n      var script = scripts[i]\n      if (script.src != null) {\n\texisting_scripts.push(script.src)\n      }\n    }\n    for (var i = 0; i < js_urls.length; i++) {\n      var url = js_urls[i];\n      if (skip.indexOf(url) !== -1 || existing_scripts.indexOf(url) !== -1) {\n\tif (!window.requirejs) {\n\t  on_load();\n\t}\n\tcontinue;\n      }\n      var element = document.createElement('script');\n      element.onload = on_load;\n      element.onerror = on_error;\n      element.async = false;\n      element.src = url;\n      console.debug(\"Bokeh: injecting script tag for BokehJS library: \", url);\n      document.head.appendChild(element);\n    }\n    for (var i = 0; i < js_modules.length; i++) {\n      var url = js_modules[i];\n      if (skip.indexOf(url) !== -1 || existing_scripts.indexOf(url) !== -1) {\n\tif (!window.requirejs) {\n\t  on_load();\n\t}\n\tcontinue;\n      }\n      var element = document.createElement('script');\n      element.onload = on_load;\n      element.onerror = on_error;\n      element.async = false;\n      element.src = url;\n      element.type = \"module\";\n      console.debug(\"Bokeh: injecting script tag for BokehJS library: \", url);\n      document.head.appendChild(element);\n    }\n    for (const name in js_exports) {\n      var url = js_exports[name];\n      if (skip.indexOf(url) >= 0 || root[name] != null) {\n\tif (!window.requirejs) {\n\t  on_load();\n\t}\n\tcontinue;\n      }\n      var element = document.createElement('script');\n      element.onerror = on_error;\n      element.async = false;\n      element.type = \"module\";\n      console.debug(\"Bokeh: injecting script tag for BokehJS library: \", url);\n      element.textContent = `\n      import ${name} from \"${url}\"\n      window.${name} = ${name}\n      window._bokeh_on_load()\n      `\n      document.head.appendChild(element);\n    }\n    if (!js_urls.length && !js_modules.length) {\n      on_load()\n    }\n  };\n\n  function inject_raw_css(css) {\n    const element = document.createElement(\"style\");\n    element.appendChild(document.createTextNode(css));\n    document.body.appendChild(element);\n  }\n\n  var js_urls = [\"https://cdn.bokeh.org/bokeh/release/bokeh-3.4.1.min.js\", \"https://cdn.bokeh.org/bokeh/release/bokeh-gl-3.4.1.min.js\", \"https://cdn.bokeh.org/bokeh/release/bokeh-widgets-3.4.1.min.js\", \"https://cdn.bokeh.org/bokeh/release/bokeh-tables-3.4.1.min.js\", \"https://cdn.holoviz.org/panel/1.4.2/dist/panel.min.js\"];\n  var js_modules = [];\n  var js_exports = {};\n  var css_urls = [];\n  var inline_js = [    function(Bokeh) {\n      Bokeh.set_log_level(\"info\");\n    },\nfunction(Bokeh) {} // ensure no trailing comma for IE\n  ];\n\n  function run_inline_js() {\n    if ((root.Bokeh !== undefined) || (force === true)) {\n      for (var i = 0; i < inline_js.length; i++) {\n\ttry {\n          inline_js[i].call(root, root.Bokeh);\n\t} catch(e) {\n\t  if (!reloading) {\n\t    throw e;\n\t  }\n\t}\n      }\n      // Cache old bokeh versions\n      if (Bokeh != undefined && !reloading) {\n\tvar NewBokeh = root.Bokeh;\n\tif (Bokeh.versions === undefined) {\n\t  Bokeh.versions = new Map();\n\t}\n\tif (NewBokeh.version !== Bokeh.version) {\n\t  Bokeh.versions.set(NewBokeh.version, NewBokeh)\n\t}\n\troot.Bokeh = Bokeh;\n      }} else if (Date.now() < root._bokeh_timeout) {\n      setTimeout(run_inline_js, 100);\n    } else if (!root._bokeh_failed_load) {\n      console.log(\"Bokeh: BokehJS failed to load within specified timeout.\");\n      root._bokeh_failed_load = true;\n    }\n    root._bokeh_is_initializing = false\n  }\n\n  function load_or_wait() {\n    // Implement a backoff loop that tries to ensure we do not load multiple\n    // versions of Bokeh and its dependencies at the same time.\n    // In recent versions we use the root._bokeh_is_initializing flag\n    // to determine whether there is an ongoing attempt to initialize\n    // bokeh, however for backward compatibility we also try to ensure\n    // that we do not start loading a newer (Panel>=1.0 and Bokeh>3) version\n    // before older versions are fully initialized.\n    if (root._bokeh_is_initializing && Date.now() > root._bokeh_timeout) {\n      root._bokeh_is_initializing = false;\n      root._bokeh_onload_callbacks = undefined;\n      console.log(\"Bokeh: BokehJS was loaded multiple times but one version failed to initialize.\");\n      load_or_wait();\n    } else if (root._bokeh_is_initializing || (typeof root._bokeh_is_initializing === \"undefined\" && root._bokeh_onload_callbacks !== undefined)) {\n      setTimeout(load_or_wait, 100);\n    } else {\n      root._bokeh_is_initializing = true\n      root._bokeh_onload_callbacks = []\n      var bokeh_loaded = Bokeh != null && (Bokeh.version === py_version || (Bokeh.versions !== undefined && Bokeh.versions.has(py_version)));\n      if (!reloading && !bokeh_loaded) {\n\troot.Bokeh = undefined;\n      }\n      load_libs(css_urls, js_urls, js_modules, js_exports, function() {\n\tconsole.debug(\"Bokeh: BokehJS plotting callback run at\", now());\n\trun_inline_js();\n      });\n    }\n  }\n  // Give older versions of the autoload script a head-start to ensure\n  // they initialize before we start loading newer version.\n  setTimeout(load_or_wait, 100)\n}(window));",
      "application/vnd.holoviews_load.v0+json": ""
     },
    "    aapl_df = current_portfolio_df[current_portfolio_df['symbol'] == 'AAPL'].drop(columns='symbol', errors='ignore')\n",
    "    msft_df = current_portfolio_df[current_portfolio_df['symbol'] == 'MSFT'].drop(columns='symbol', errors='ignore')\n",
    "    amzn_df = current_portfolio_df[current_portfolio_df['symbol'] == 'AMZN'].drop(columns='symbol', errors='ignore')\n",
    "    googl_df = current_portfolio_df[current_portfolio_df['symbol'] == 'GOOGL'].drop(columns='symbol', errors='ignore')\n",
    "    meta_df = current_portfolio_df[current_portfolio_df['symbol'] == 'META'].drop(columns='symbol', errors='ignore')\n",
    "    tsla_df = current_portfolio_df[current_portfolio_df['symbol'] == 'TSLA'].drop(columns='symbol', errors='ignore')\n",
    "    nvda_df = current_portfolio_df[current_portfolio_df['symbol'] == 'NVDA'].drop(columns='symbol', errors='ignore')\n",
    "    jnj_df = current_portfolio_df[current_portfolio_df['symbol'] == 'JNJ'].drop(columns='symbol', errors='ignore')\n",
    "    jpm_df = current_portfolio_df[current_portfolio_df['symbol'] == 'JPM'].drop(columns='symbol', errors='ignore')\n",
    "\n",
    "    # Concatenate the ticker DataFrames along the columns axis\n",
   ]
  },
  {
   "cell_type": "code",
    }
   ],
   "source": [
    "import os\n",
    "import pandas as pd\n",
    "from datetime import datetime, timedelta\n",
    "import pytz\n",
    "from dotenv import load_dotenv\n",
    "import alpaca_trade_api as tradeapi\n",
    "\n",
    "# Load environment variables\n",
    "load_dotenv()\n",
    "\n",
    "# Print out the keys to verify they are loaded (remove in production)\n",
    "api_key = os.getenv(\"ALPACA_API_KEY\")\n",
    "secret_key = os.getenv(\"ALPACA_API_SECRET_KEY\")\n",
    "print(\"API Key Loaded:\", api_key)\n",
    "print(\"Secret Key Loaded:\", secret_key)\n",
    "\n",
    "# Setup API credentials and create API object\n",
    "if api_key and secret_key:\n",
    "    api = tradeapi.REST(api_key, secret_key, api_version='v2')\n",
    "    print(\"API client initialized successfully.\")\n",
    "else:\n",
    "    print(\"API credentials are not loaded. Check .env file and ensure the notebook's working directory is correct.\")\n",
    "\n",
    "# Define the timezone and get the current date adjusted for NY market close\n",
    "tz = pytz.timezone('America/New_York')\n",
    "now = datetime.now(tz)\n",
    "correct_date = now - timedelta(days=1)  # Use the previous day if after market close\n",
    "correct_timestamp = pd.Timestamp(correct_date)\n",
    "correct_timestamp_normalized = correct_timestamp.normalize()\n",
    "correct_date_str = correct_timestamp_normalized.isoformat()\n",
    "\n",
    "# Define the cryptocurrency tickers and the timeframe for the data request\n",
    "crypto_tickers = ['BTCUSD', 'ETHUSD', 'BNBUSD', 'ADAUSD', 'XRPUSD', 'SOLUSD', 'DOTUSD', 'LTCUSD', 'LINKUSD', 'BCHUSD']\n",
    "timeframe = '1Day'\n",
    "\n",
    "# Fetch the cryptocurrency data using a method similar to get_bars() if supported\n",
    "try:\n",
    "    crypto_df = api.get_crypto_bars(crypto_tickers, timeframe, start=correct_date_str, end=correct_date_str).df\n",
    "    print(\"Data fetched successfully. Number of rows:\", len(crypto_df))\n",
    "    print(crypto_df.head())\n",
    "\n",
    "    if 'symbol' in crypto_df.columns:\n",
    "        crypto_concat_df = pd.concat([crypto_df[crypto_df['symbol'] == ticker].drop(columns='symbol', errors='ignore') for ticker in crypto_tickers],\n",
    "                                     axis=1, \n",
    "                                     keys=crypto_tickers)\n",
    "        print(crypto_concat_df.head())\n",
    "    else:\n",
    "        print(\"Symbol column not found in cryptocurrency DataFrame. Check API response and documentation.\")\n",
    "except Exception as e:\n",
    "    print(\"An error occurred while fetching or processing data:\", str(e))\n"
   ]
  },
  {
   "cell_type": "code",
    "# Define the directory path for raw_data\n",
    "raw_data_dir = '../data/raw_data'\n",
    "if not os.path.exists(raw_data_dir):\n",
    "    os.makedirs(raw_data_dir)\n",
    "\n",
    "# Function to save DataFrame to CSV or log if empty\n",
    "def save_data(df, filename, description):\n",
    "    if not df.empty:\n",
    "        df.to_csv(filename)\n",
    "        print(f\"{description} data saved successfully to {filename}\")\n",
    "    else:\n",
    "        print(f\"No {description} data to save. Writing null placeholder.\")\n",
    "        # Write a null placeholder to indicate no data was fetched\n",
    "        with open(filename, 'w') as file:\n",
    "            file.write('null')\n",
    "\n",
    "try:\n",
    "    # Check if the DataFrame exists and isn't empty\n",
    "    if 'portfolio_concat_df' in locals() and not portfolio_concat_df.empty:\n",
    "        stock_file_path = os.path.join(raw_data_dir, 'stock_data.csv')\n",
    "        save_data(portfolio_concat_df, stock_file_path, 'Stock')\n",
    "    else:\n",
    "        save_data(pd.DataFrame(), os.path.join(raw_data_dir, 'stock_data.csv'), 'Stock')\n",
    "\n",
    "    if 'crypto_concat_df' in locals() and not crypto_concat_df.empty:\n",
    "        crypto_file_path = os.path.join(raw_data_dir, 'crypto_data.csv')\n",
    "        save_data(crypto_concat_df, crypto_file_path, 'Crypto')\n",
    "    else:\n",
    "        save_data(pd.DataFrame(), os.path.join(raw_data_dir, 'crypto_data.csv'), 'Crypto')\n",
    "except Exception as e:\n",
    "    print(f\"An error occurred while saving data: {str(e)}\")\n"
   ]
  }
 ],
 "metadata": {
  "kernelspec": {
   "display_name": "dev",
   "language": "python",
   "name": "python3"
  },
  "language_info": {
   "codemirror_mode": {
    "name": "ipython",
    "version": 3
   },
   "file_extension": ".py",
   "mimetype": "text/x-python",
   "name": "python",
   "nbconvert_exporter": "python",
   "pygments_lexer": "ipython3",
   "version": "3.11.7"
  }
 },
 "nbformat": 4,
 "nbformat_minor": 2
}
