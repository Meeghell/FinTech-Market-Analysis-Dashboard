{
 "cells": [
  {
   "cell_type": "code",

   "metadata": {},
   "outputs": [
    {
     "data": {
      "text/plain": [
       "True"
      ]
     },

     "metadata": {},
     "output_type": "execute_result"
    }
   ],
   "source": [

    "import os\n",
    "import warnings\n",
    "import requests\n",
    "import pandas as pd\n",
    "from datetime import datetime, timedelta\n",
    "import pytz \n",
    "from dotenv import load_dotenv\n",
    "import alpaca_trade_api as tradeapi\n",
    "\n",
    "load_dotenv()"
   ]
  },
  {
   "cell_type": "code",

   "metadata": {},
   "outputs": [],
   "source": [
    "# Set Alpaca API key and secret\n",
    "# YOUR CODE HERE!\n",
    "alpaca_api_key = os.getenv(\"ALPACA_API_KEY\")\n",
    "alpaca_secret_key = os.getenv(\"ALPACA_SECRET_KEY\")\n",
    "# Create the Alpaca API object\n",
    "# YOUR CODE HERE!\n",
    "api = tradeapi.REST(alpaca_api_key, alpaca_secret_key, api_version='v2')"
   ]
  },
  {
   "cell_type": "code",

     "data": {
      "text/html": [
       "<div>\n",
       "<style scoped>\n",
       "    .dataframe tbody tr th:only-of-type {\n",
       "        vertical-align: middle;\n",
       "    }\n",
       "\n",
       "    .dataframe tbody tr th {\n",
       "        vertical-align: top;\n",
       "    }\n",
       "\n",
       "    .dataframe thead tr th {\n",
       "        text-align: left;\n",
       "    }\n",
       "\n",
       "    .dataframe thead tr:last-of-type th {\n",
       "        text-align: right;\n",
       "    }\n",
       "</style>\n",
       "<table border=\"1\" class=\"dataframe\">\n",
       "  <thead>\n",
       "    <tr>\n",
       "      <th></th>\n",
       "      <th colspan=\"7\" halign=\"left\">AGG</th>\n",
       "      <th colspan=\"7\" halign=\"left\">SPY</th>\n",
       "    </tr>\n",
       "    <tr>\n",
       "      <th></th>\n",
       "      <th>close</th>\n",
       "      <th>high</th>\n",
       "      <th>low</th>\n",
       "      <th>trade_count</th>\n",
       "      <th>open</th>\n",
       "      <th>volume</th>\n",
       "      <th>vwap</th>\n",
       "      <th>close</th>\n",
       "      <th>high</th>\n",
       "      <th>low</th>\n",
       "      <th>trade_count</th>\n",
       "      <th>open</th>\n",
       "      <th>volume</th>\n",
       "      <th>vwap</th>\n",
       "    </tr>\n",
       "    <tr>\n",
       "      <th>timestamp</th>\n",
       "      <th></th>\n",
       "      <th></th>\n",
       "      <th></th>\n",
       "      <th></th>\n",
       "      <th></th>\n",
       "      <th></th>\n",
       "      <th></th>\n",
       "      <th></th>\n",
       "      <th></th>\n",
       "      <th></th>\n",
       "      <th></th>\n",
       "      <th></th>\n",
       "      <th></th>\n",
       "      <th></th>\n",
       "    </tr>\n",
       "  </thead>\n",
       "  <tbody>\n",
       "    <tr>\n",
       "      <th>2024-05-02 04:00:00+00:00</th>\n",
       "      <td>95.7</td>\n",
       "      <td>95.73</td>\n",
       "      <td>95.22</td>\n",
       "      <td>23089</td>\n",
       "      <td>95.27</td>\n",
       "      <td>7607332</td>\n",
       "      <td>95.58034</td>\n",
       "      <td>505.03</td>\n",
       "      <td>505.89</td>\n",
       "      <td>499.55</td>\n",

       "    </tr>\n",
       "  </tbody>\n",
       "</table>\n",
       "</div>"
      ],
      "text/plain": [
       "                            AGG                                            \\\n",
       "                          close   high    low trade_count   open   volume   \n",
       "timestamp                                                                   \n",
       "2024-05-02 04:00:00+00:00  95.7  95.73  95.22       23089  95.27  7607332   \n",
       "\n",
       "                                        SPY                              \\\n",
       "                               vwap   close    high     low trade_count   \n",
       "timestamp                                                                 \n",

       "\n",
       "                                                         \n",
       "                             open    volume        vwap  \n",
       "timestamp                                                \n",

     "metadata": {},
     "output_type": "execute_result"
    }
   ],
   "source": [
    "# Define the timezone: America/New_York\n",
    "tz = pytz.timezone('America/New_York')\n",
    "\n",
    "# Get the current datetime in the specified timezone\n",
    "now = datetime.now(tz)\n",
    "\n",
    "correct_date = now #- timedelta(days=1)\n",
    "\n",
    "# Convert to pandas Timestamp with timezone and format as ISO 8601 string\n",
    "# Create a Timestamp object from the correct_date\n",
    "correct_timestamp = pd.Timestamp(correct_date)\n",
    "\n",
    "# Normalize the timestamp to midnight (00:00:00)\n",
    "correct_timestamp_normalized = correct_timestamp.normalize()\n",
    "\n",
    "# Convert the localized Timestamp object to the desired format\n",
    "correct_date_str = correct_timestamp_normalized.isoformat()\n",
    "\n",
    "# Set the tickers\n",
    "tickers = [\"AGG\", \"SPY\"]\n",
    "\n",
    "# Set timeframe to \"1Day\" for Alpaca API\n",
    "timeframe = \"1Day\"\n",
    "\n",
    "# Get current closing prices for SPY and AGG\n",
    "# YOUR CODE HERE!\n",
    "current_portfolio_df = api.get_bars(tickers, timeframe, start=correct_date_str, end=correct_date_str).df\n",
    "\n",
    "# Reorganize the DataFrame\n",
    "# Separate ticker data\n",
    "agg_df = current_portfolio_df[current_portfolio_df['symbol']=='AGG'].drop(columns='symbol')\n",
    "spy_df = current_portfolio_df[current_portfolio_df['symbol']=='SPY'].drop(columns='symbol')\n",
    "# Concatenate the ticker DataFrames\n",
    "portfolio_concat_df = pd.concat([agg_df, spy_df], axis=1, keys=['AGG', 'SPY'])\n",
    "# Preview DataFrame\n",
    "portfolio_concat_df.head()"
   ]
  },
  {
   "cell_type": "code",

   "metadata": {},
   "outputs": [
    {
     "name": "stdout",
     "output_type": "stream",
     "text": [
      "2024-05-02T00:00:00-04:00\n"
     ]
    },
    {
     "data": {
      "text/html": [
       "<div>\n",
       "<style scoped>\n",
       "    .dataframe tbody tr th:only-of-type {\n",
       "        vertical-align: middle;\n",
       "    }\n",
       "\n",
       "    .dataframe tbody tr th {\n",
       "        vertical-align: top;\n",
       "    }\n",
       "\n",
       "    .dataframe thead th {\n",
       "        text-align: right;\n",
       "    }\n",
       "</style>\n",
       "<table border=\"1\" class=\"dataframe\">\n",
       "  <thead>\n",
       "    <tr style=\"text-align: right;\">\n",
       "      <th></th>\n",
       "      <th>close</th>\n",
       "      <th>high</th>\n",
       "      <th>low</th>\n",
       "      <th>trade_count</th>\n",
       "      <th>open</th>\n",
       "      <th>volume</th>\n",
       "      <th>vwap</th>\n",
       "      <th>symbol</th>\n",
       "    </tr>\n",
       "    <tr>\n",
       "      <th>timestamp</th>\n",
       "      <th></th>\n",
       "      <th></th>\n",
       "      <th></th>\n",
       "      <th></th>\n",
       "      <th></th>\n",
       "      <th></th>\n",
       "      <th></th>\n",
       "      <th></th>\n",
       "    </tr>\n",
       "  </thead>\n",
       "  <tbody>\n",
       "    <tr>\n",
       "      <th>2024-05-02 04:00:00+00:00</th>\n",
       "      <td>95.70</td>\n",
       "      <td>95.73</td>\n",
       "      <td>95.22</td>\n",

       "      <td>95.580340</td>\n",
       "      <td>AGG</td>\n",
       "    </tr>\n",
       "    <tr>\n",
       "      <th>2024-05-02 04:00:00+00:00</th>\n",
       "      <td>505.03</td>\n",
       "      <td>505.89</td>\n",
       "      <td>499.55</td>\n",

       "      <td>SPY</td>\n",
       "    </tr>\n",
       "  </tbody>\n",
       "</table>\n",
       "</div>"
      ],
      "text/plain": [
       "                            close    high     low  trade_count    open  \\\n",
       "timestamp                                                                \n",

     "metadata": {},
     "output_type": "execute_result"
    }
   ],
   "source": [
    "# Format current date as ISO format\n",
    "# YOUR CODE HERE!\n",
    "today = pd.Timestamp(\"2024-05-02\", tz=\"America/New_York\").isoformat()\n",
    "# Set the tickers\n",
    "tickers = [\"AGG\", \"SPY\"]\n",
    "print(today)\n",
    "# Set timeframe to \"1Day\" for Alpaca API\n",
    "timeframe = \"1Day\"\n",
    "# Get current closing prices for SPY and AGG\n",
    "# YOUR CODE HERE!\n",
    "current_portfolio_df = api.get_bars(tickers, timeframe, start=today, end=today).df\n",
    "current_portfolio_df.head()"
   ]
  },
  {
   "cell_type": "code",

   "metadata": {},
   "outputs": [],
   "source": [
    "import matplotlib.pyplot as plt\n",
    "\n",
    "# Example: Plotting a time-series of stock prices\n",
    "if 'price' in data.columns:\n",
    "    plt.figure(figsize=(10, 6))\n",
    "    plt.plot(data['date'], data['price'], marker='o', linestyle='-')\n",
    "    plt.title('Stock Price Over Time')\n",
    "    plt.xlabel('Date')\n",
    "    plt.ylabel('Price')\n",
    "    plt.grid(True)\n",
    "    plt.show()\n",
    "\n",
    "# Calculate a simple moving average if it's relevant\n",
    "if 'price' in data.columns:\n",
    "    data['SMA_10'] = data['price'].rolling(window=10).mean()\n",
    "    print(\"Calculated 10-day simple moving average.\")\n"
   ]
  },
  {
   "cell_type": "code",
   "execution_count": 24,
   "metadata": {},
   "outputs": [
    {
     "name": "stdout",
     "output_type": "stream",
     "text": [
      "Processed data saved to ../data/cleaned_data/processed_data.csv\n"
     ]
    }
   ],
   "source": [
    "import os\n",
    "\n",
    "# Define the path to the cleaned_data folder\n",
    "directory = '../data/cleaned_data'\n",
    "if not os.path.exists(directory):\n",
    "    os.makedirs(directory)  # Create the directory if it does not exist\n",
    "\n",
    "# Define the full path to save the processed data\n",
    "processed_file_path = os.path.join(directory, 'processed_data.csv')\n",
    "\n",
    "# Save the DataFrame to a CSV file in the cleaned_data directory\n",
    "data.to_csv(processed_file_path, index=False)\n",
    "print(f\"Processed data saved to {processed_file_path}\")\n"
   ]
  }
 ],
 "metadata": {
  "kernelspec": {
   "display_name": "dev",
   "language": "python",
   "name": "python3"
  },
  "language_info": {
   "codemirror_mode": {
    "name": "ipython",
    "version": 3
   },
   "file_extension": ".py",
   "mimetype": "text/x-python",
   "name": "python",
   "nbconvert_exporter": "python",
   "pygments_lexer": "ipython3",
   "version": "3.11.7"
  }
 },
 "nbformat": 4,
 "nbformat_minor": 2
}
