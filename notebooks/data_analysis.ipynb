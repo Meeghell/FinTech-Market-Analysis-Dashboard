{
 "cells": [
  {
   "cell_type": "code",
   "execution_count": 23,
   "metadata": {},
   "outputs": [
    {
     "data": {
      "text/plain": [
       "True"
      ]
     },
     "execution_count": 23,
     "metadata": {},
     "output_type": "execute_result"
    }
   ],
   "source": [
    "import os\n",
    "import warnings\n",
    "import requests\n",
    "import pandas as pd\n",
    "from datetime import datetime, timedelta\n",
    "import pytz \n",
    "from dotenv import load_dotenv\n",
    "import alpaca_trade_api as tradeapi\n",
    "\n",
    "load_dotenv()"
   ]
  },
  {
   "cell_type": "code",
   "execution_count": 24,
   "metadata": {},
   "outputs": [],
   "source": [
    "# Set Alpaca API key and secret\n",
    "# YOUR CODE HERE!\n",
    "alpaca_api_key = os.getenv(\"ALPACA_API_KEY\")\n",
    "alpaca_secret_key = os.getenv(\"ALPACA_SECRET_KEY\")\n",
    "# Create the Alpaca API object\n",
    "# YOUR CODE HERE!\n",
    "api = tradeapi.REST(alpaca_api_key, alpaca_secret_key, api_version='v2')"
   ]
  },
  {
   "cell_type": "code",
   "execution_count": 25,
   "metadata": {},
   "outputs": [
    {
     "name": "stdout",
     "output_type": "stream",
     "text": [
      "Data fetched successfully. Number of rows:  0\n",
      "Empty DataFrame\n",
      "Columns: []\n",
      "Index: []\n"
     ]
    }
   ],
   "source": [
    "# Define the timezone: America/New_York\n",
    "tz = pytz.timezone('America/New_York')\n",
    "\n",
    "# Get the current datetime in the specified timezone\n",
    "now = datetime.now(tz)\n",
    "correct_date = now - timedelta(days=1)  # Use previous day if after market close\n",
    "\n",
    "# Convert to pandas Timestamp with timezone and format as ISO 8601 string\n",
    "correct_timestamp = pd.Timestamp(correct_date)\n",
    "correct_timestamp_normalized = correct_timestamp.normalize()\n",
    "correct_date_str = correct_timestamp_normalized.isoformat()\n",
    "\n",
    "# Set the tickers and timeframe\n",
    "tickers = [\"AGG\", \"SPY\", \"AAPL\", \"MSFT\", \"AMZN\", \"GOOGL\", \"META\", \"TSLA\", \"NVDA\", \"JNJ\", \"JPM\"]\n",
    "timeframe = \"1Day\"\n",
    "\n",
    "# Fetch the data\n",
    "current_portfolio_df = api.get_bars(tickers, timeframe, start=correct_date_str, end=correct_date_str).df\n",
    "print(\"Data fetched successfully. Number of rows: \", len(current_portfolio_df))\n",
    "print(current_portfolio_df.head())"
   ]
  },
  {
   "cell_type": "code",
   "execution_count": 26,
   "metadata": {},
   "outputs": [
    {
     "name": "stdout",
     "output_type": "stream",
     "text": [
      "Symbol column not found in DataFrame.\n"
     ]
    }
   ],
   "source": [
    "if 'symbol' in current_portfolio_df.columns:\n",
    "    # Separate data by ticker and drop the 'symbol' column\n",
    "    agg_df = current_portfolio_df[current_portfolio_df['symbol'] == 'AGG'].drop(columns='symbol', errors='ignore')\n",
    "    spy_df = current_portfolio_df[current_portfolio_df['symbol'] == 'SPY'].drop(columns='symbol', errors='ignore')\n",
    "    aapl_df = current_portfolio_df[current_portfolio_df['symbol'] == 'AAPL'].drop(columns='symbol', errors='ignore')\n",
    "    msft_df = current_portfolio_df[current_portfolio_df['symbol'] == 'MSFT'].drop(columns='symbol', errors='ignore')\n",
    "    amzn_df = current_portfolio_df[current_portfolio_df['symbol'] == 'AMZN'].drop(columns='symbol', errors='ignore')\n",
    "    googl_df = current_portfolio_df[current_portfolio_df['symbol'] == 'GOOGL'].drop(columns='symbol', errors='ignore')\n",
    "    meta_df = current_portfolio_df[current_portfolio_df['symbol'] == 'META'].drop(columns='symbol', errors='ignore')\n",
    "    tsla_df = current_portfolio_df[current_portfolio_df['symbol'] == 'TSLA'].drop(columns='symbol', errors='ignore')\n",
    "    nvda_df = current_portfolio_df[current_portfolio_df['symbol'] == 'NVDA'].drop(columns='symbol', errors='ignore')\n",
    "    jnj_df = current_portfolio_df[current_portfolio_df['symbol'] == 'JNJ'].drop(columns='symbol', errors='ignore')\n",
    "    jpm_df = current_portfolio_df[current_portfolio_df['symbol'] == 'JPM'].drop(columns='symbol', errors='ignore')\n",
    "\n",
    "    # Concatenate the ticker DataFrames along the columns axis\n",
    "    portfolio_concat_df = pd.concat([agg_df, spy_df, aapl_df, msft_df, amzn_df, googl_df, meta_df, tsla_df, nvda_df, jnj_df, jpm_df],\n",
    "                                    axis=1, \n",
    "                                    keys=['AGG', 'SPY', 'AAPL', 'MSFT', 'AMZN', 'GOOGL', 'META', 'TSLA', 'NVDA', 'JNJ', 'JPM'])\n",
    "    print(portfolio_concat_df.head())\n",
    "else:\n",
    "    print(\"Symbol column not found in DataFrame.\")"
   ]
  },
  {
   "cell_type": "code",
   "execution_count": 27,
   "metadata": {},
   "outputs": [
    {
     "name": "stdout",
     "output_type": "stream",
     "text": [
      "API Key Loaded: PKHRIE1T8QEDTBN7ONLV\n",
      "Secret Key Loaded: None\n",
      "API credentials are not loaded. Check .env file and ensure the notebook's working directory is correct.\n",
      "An error occurred while fetching or processing data: invalid symbol: BTCUSD does not match ^[A-Z]+/[A-Z]+$\n"
     ]
    }
   ],
   "source": [
    "import os\n",
    "import pandas as pd\n",
    "from datetime import datetime, timedelta\n",
    "import pytz\n",
    "from dotenv import load_dotenv\n",
    "import alpaca_trade_api as tradeapi\n",
    "\n",
    "# Load environment variables\n",
    "load_dotenv()\n",
    "\n",
    "# Print out the keys to verify they are loaded (remove in production)\n",
    "api_key = os.getenv(\"ALPACA_API_KEY\")\n",
    "secret_key = os.getenv(\"ALPACA_API_SECRET_KEY\")\n",
    "print(\"API Key Loaded:\", api_key)\n",
    "print(\"Secret Key Loaded:\", secret_key)\n",
    "\n",
    "# Setup API credentials and create API object\n",
    "if api_key and secret_key:\n",
    "    api = tradeapi.REST(api_key, secret_key, api_version='v2')\n",
    "    print(\"API client initialized successfully.\")\n",
    "else:\n",
    "    print(\"API credentials are not loaded. Check .env file and ensure the notebook's working directory is correct.\")\n",
    "\n",
    "# Define the timezone and get the current date adjusted for NY market close\n",
    "tz = pytz.timezone('America/New_York')\n",
    "now = datetime.now(tz)\n",
    "correct_date = now - timedelta(days=1)  # Use the previous day if after market close\n",
    "correct_timestamp = pd.Timestamp(correct_date)\n",
    "correct_timestamp_normalized = correct_timestamp.normalize()\n",
    "correct_date_str = correct_timestamp_normalized.isoformat()\n",
    "\n",
    "# Define the cryptocurrency tickers and the timeframe for the data request\n",
    "crypto_tickers = ['BTCUSD', 'ETHUSD', 'BNBUSD', 'ADAUSD', 'XRPUSD', 'SOLUSD', 'DOTUSD', 'LTCUSD', 'LINKUSD', 'BCHUSD']\n",
    "timeframe = '1Day'\n",
    "\n",
    "# Fetch the cryptocurrency data using a method similar to get_bars() if supported\n",
    "try:\n",
    "    crypto_df = api.get_crypto_bars(crypto_tickers, timeframe, start=correct_date_str, end=correct_date_str).df\n",
    "    print(\"Data fetched successfully. Number of rows:\", len(crypto_df))\n",
    "    print(crypto_df.head())\n",
    "\n",
    "    if 'symbol' in crypto_df.columns:\n",
    "        crypto_concat_df = pd.concat([crypto_df[crypto_df['symbol'] == ticker].drop(columns='symbol', errors='ignore') for ticker in crypto_tickers],\n",
    "                                     axis=1, \n",
    "                                     keys=crypto_tickers)\n",
    "        print(crypto_concat_df.head())\n",
    "    else:\n",
    "        print(\"Symbol column not found in cryptocurrency DataFrame. Check API response and documentation.\")\n",
    "except Exception as e:\n",
    "    print(\"An error occurred while fetching or processing data:\", str(e))\n"
   ]
  },
  {
   "cell_type": "code",
   "execution_count": 28,
   "metadata": {},
   "outputs": [
    {
     "name": "stdout",
     "output_type": "stream",
     "text": [
      "Stock data saved successfully to ../data/raw_data/stock_data.csv\n",
      "No Crypto data to save. Writing null placeholder.\n"
     ]
    }
   ],
   "source": [
    "import os\n",
    "import pandas as pd\n",
    "\n",
    "# Define the directory path for raw_data\n",
    "raw_data_dir = '../data/raw_data'\n",
    "if not os.path.exists(raw_data_dir):\n",
    "    os.makedirs(raw_data_dir)\n",
    "\n",
    "# Function to save DataFrame to CSV or log if empty\n",
    "def save_data(df, filename, description):\n",
    "    if not df.empty:\n",
    "        df.to_csv(filename)\n",
    "        print(f\"{description} data saved successfully to {filename}\")\n",
    "    else:\n",
    "        print(f\"No {description} data to save. Writing null placeholder.\")\n",
    "        # Write a null placeholder to indicate no data was fetched\n",
    "        with open(filename, 'w') as file:\n",
    "            file.write('null')\n",
    "\n",
    "try:\n",
    "    # Check if the DataFrame exists and isn't empty\n",
    "    if 'portfolio_concat_df' in locals() and not portfolio_concat_df.empty:\n",
    "        stock_file_path = os.path.join(raw_data_dir, 'stock_data.csv')\n",
    "        save_data(portfolio_concat_df, stock_file_path, 'Stock')\n",
    "    else:\n",
    "        save_data(pd.DataFrame(), os.path.join(raw_data_dir, 'stock_data.csv'), 'Stock')\n",
    "\n",
    "    if 'crypto_concat_df' in locals() and not crypto_concat_df.empty:\n",
    "        crypto_file_path = os.path.join(raw_data_dir, 'crypto_data.csv')\n",
    "        save_data(crypto_concat_df, crypto_file_path, 'Crypto')\n",
    "    else:\n",
    "        save_data(pd.DataFrame(), os.path.join(raw_data_dir, 'crypto_data.csv'), 'Crypto')\n",
    "except Exception as e:\n",
    "    print(f\"An error occurred while saving data: {str(e)}\")\n"
   ]
  }
 ],
 "metadata": {
  "kernelspec": {
   "display_name": "dev",
   "language": "python",
   "name": "python3"
  },
  "language_info": {
   "codemirror_mode": {
    "name": "ipython",
    "version": 3
   },
   "file_extension": ".py",
   "mimetype": "text/x-python",
   "name": "python",
   "nbconvert_exporter": "python",
   "pygments_lexer": "ipython3",
   "version": "3.11.7"
  }
 },
 "nbformat": 4,
 "nbformat_minor": 2
}
