{
 "cells": [
  {
   "cell_type": "code",
   "execution_count": null,
   "metadata": {},
   "outputs": [],
   "source": [
    "\n",
    "# imports\n",
    "import pandas as pd\n",
    "import yfinance as yf\n",
    "\n",
    "#set tickers and dates\n",
    "tickers_list = ['SPY', 'AAPL', 'GOOG', 'NVDA', 'TSLA', 'META', 'MSFT', 'DIS', 'AMZN']\n",
    "start_date = '2015-1-1'\n",
    "end_date = '2024-5-5'\n",
    "\n",
    "\n",
    "# Fetch the data\n",
    "data = yf.download(tickers_list, start_date , end_date)['Adj Close']\n",
    "\n",
    "\n",
    "# Print to check\n",
    "print(data.tail(10))\n"
   ]
  },
  {
   "cell_type": "code",
   "execution_count": null,
   "metadata": {},
   "outputs": [],
   "source": [
    "# Plot all the close prices\n",
    "((data.pct_change()+1).cumprod()).plot(figsize=(10, 7))\n",
    "\n",
    "# Show the legend\n",
    "plt.legend()\n",
    "\n",
    "# Define the label for the title of the figure\n",
    "plt.title(\"Returns\", fontsize=16)\n",
    "\n",
    "# Define the labels for x-axis and y-axis\n",
    "plt.ylabel('Cumulative Returns', fontsize=14)\n",
    "plt.xlabel('Year', fontsize=14)\n",
    "\n",
    "# Plot the grid lines\n",
    "plt.grid(which=\"major\", color='k', linestyle='-.', linewidth=0.5)\n",
    "plt.show()"
   ]
  },
  {
   "cell_type": "code",
   "execution_count": null,
   "metadata": {},
   "outputs": [],
   "source": [
    "# show nulls\n",
    "## shows when coin was created\n",
    "### do not drop nulls since then data will only go back to when most recent crypto hit the market\n",
    "data.isnull().sum()"
   ]
  },
  {
   "cell_type": "code",
   "execution_count": null,
   "metadata": {},
   "outputs": [],
   "source": [
    "#Save \n",
    "data.to_csv('stock_data.csv')"
   ]
  }
 ],
 "metadata": {
  "language_info": {
   "name": "python"
  }
 },
 "nbformat": 4,
 "nbformat_minor": 2
}
