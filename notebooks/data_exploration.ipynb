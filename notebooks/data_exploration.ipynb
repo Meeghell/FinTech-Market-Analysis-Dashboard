{
 "cells": [
  {
   "cell_type": "code",
   "execution_count": 17,
   "metadata": {},
   "outputs": [
    {
     "name": "stdout",
     "output_type": "stream",
     "text": [
      "Stock data loaded successfully.\n",
      "Crypto data loaded successfully.\n"
     ]
    }
   ],
   "source": [
    "import pandas as pd\n",
    "\n",
    "stock_data_path = '../data/raw_data/stock_data.csv'\n",
    "crypto_data_path = '../data/raw_data/crypto_data.csv'\n",
    "\n",
    "try:\n",
    "    stock_data = pd.read_csv(stock_data_path)\n",
    "    print(\"Stock data loaded successfully.\")\n",
    "except FileNotFoundError:\n",
    "    print(\"Stock data file not found.\")\n",
    "    stock_data = pd.DataFrame()\n",
    "\n",
    "try:\n",
    "    crypto_data = pd.read_csv(crypto_data_path)\n",
    "    print(\"Crypto data loaded successfully.\")\n",
    "except FileNotFoundError:\n",
    "    print(\"Crypto data file not found.\")\n",
    "    crypto_data = pd.DataFrame()\n"
   ]
  },
  {
   "cell_type": "code",
   "execution_count": 18,
   "metadata": {},
   "outputs": [
    {
     "name": "stdout",
     "output_type": "stream",
     "text": [
      "                       value      ticker metric       date\n",
      "0                        NaN  Unnamed: 0  price 1970-01-01\n",
      "1                  timestamp  Unnamed: 0  price 1970-01-02\n",
      "2  2024-05-03 04:00:00+00:00  Unnamed: 0  price 1970-01-03\n",
      "3                      close         AGG  price 1970-01-01\n",
      "4                        NaN         AGG  price 1970-01-02\n"
     ]
    }
   ],
   "source": [
    "# Reshaping stock data for analysis\n",
    "if not stock_data.empty:\n",
    "    stock_data_long = pd.melt(stock_data.reset_index(), id_vars=['index'], var_name='variable', value_name='value')\n",
    "    stock_data_long['ticker'] = stock_data_long['variable'].apply(lambda x: x.split('.')[0])\n",
    "    stock_data_long['metric'] = stock_data_long['variable'].apply(lambda x: x.split('.')[1] if '.' in x else 'price')\n",
    "    stock_data_long['date'] = pd.to_datetime(stock_data_long['index'], origin='unix', unit='D')\n",
    "    stock_data_long.drop(columns=['variable', 'index'], inplace=True)\n",
    "    print(stock_data_long.head())\n",
    "else:\n",
    "    print(\"No stock data available for reshaping.\")\n"
   ]
  },
  {
   "cell_type": "code",
   "execution_count": 19,
   "metadata": {},
   "outputs": [],
   "source": [
    "import matplotlib.pyplot as plt\n",
    "\n",
    "def plot_data_or_show_message(df, ticker, metric):\n",
    "    filtered_df = df[(df['ticker'] == ticker) & (df['metric'] == metric)]\n",
    "    \n",
    "    if filtered_df.empty:\n",
    "        fig, ax = plt.subplots()\n",
    "        ax.text(0.5, 0.5, \"No Data Available At This Time.\", fontsize=12, ha='center')\n",
    "        ax.axis('off')\n",
    "        fig.savefig(f'../data/cleaned_data/{ticker}_{metric}_price.png')\n",
    "        fig.savefig(f'../data/external_data/{ticker}_{metric}_price.png')\n",
    "    else:\n",
    "        plt.figure(figsize=(10, 5))\n",
    "        plt.plot(filtered_df['date'], filtered_df['value'], label=f'{ticker} {metric}')\n",
    "        plt.title(f'{ticker} {metric} Over Time')\n",
    "        plt.xlabel('Date')\n",
    "        plt.ylabel(metric.capitalize())\n",
    "        plt.legend()\n",
    "        plt.savefig(f'../data/cleaned_data/{ticker}_{metric}_price.png')\n",
    "        plt.savefig(f'../data/external_data/{ticker}_{metric}_price.png')\n",
    "        plt.show()\n"
   ]
  },
  {
   "cell_type": "code",
   "execution_count": 20,
   "metadata": {},
   "outputs": [
    {
     "data": {
      "image/png": "[encoded data removed]",
      "text/plain": [
       "<Figure size 640x480 with 1 Axes>"
      ]
     },
     "metadata": {},
     "output_type": "display_data"
    },
    {
     "data": {
      "image/png": "[encoded data removed]",
      "text/plain": [
       "<Figure size 640x480 with 1 Axes>"
      ]
     },
     "metadata": {},
     "output_type": "display_data"
    }
   ],
   "source": [
    "import matplotlib.pyplot as plt\n",
    "\n",
    "def plot_stock_data(df, ticker):\n",
    "    metrics = ['close', 'volume']\n",
    "    for metric in metrics:\n",
    "        filtered_df = df[(df['ticker'] == ticker) & (df['metric'] == metric)]\n",
    "        if filtered_df.empty:\n",
    "            fig, ax = plt.subplots()\n",
    "            ax.text(0.5, 0.5, \"No Data available for {} at this time.\".format(metric), fontsize=12, ha='center')\n",
    "            ax.axis('off')\n",
    "            fig.savefig(f'../data/cleaned_data/{ticker}_{metric}.png')\n",
    "            fig.savefig(f'../data/external_data/{ticker}_{metric}.png')\n",
    "        else:\n",
    "            plt.figure(figsize=(10, 5))\n",
    "            plt.plot(filtered_df['date'], filtered_df['value'], label=f'{ticker} {metric}')\n",
    "            plt.title(f'{ticker} {metric.capitalize()} Over Time')\n",
    "            plt.xlabel('Date')\n",
    "            plt.ylabel(metric.capitalize())\n",
    "            plt.legend()\n",
    "            plt.savefig(f'../data/cleaned_data/{ticker}_{metric}.png')\n",
    "            plt.savefig(f'../data/external_data/{ticker}_{metric}.png')\n",
    "            plt.show()\n",
    "\n",
    "plot_stock_data(stock_data_long, 'AAPL')\n"
   ]
  },
  {
   "cell_type": "code",
   "execution_count": 21,
   "metadata": {},
   "outputs": [
    {
     "ename": "NameError",
     "evalue": "name 'crypto_data_long' is not defined",
     "output_type": "error",
     "traceback": [
      "\u001b[0;31m---------------------------------------------------------------------------\u001b[0m",
      "\u001b[0;31mNameError\u001b[0m                                 Traceback (most recent call last)",
      "Cell \u001b[0;32mIn[21], line 24\u001b[0m\n\u001b[1;32m     21\u001b[0m             plt\u001b[38;5;241m.\u001b[39msavefig(\u001b[38;5;124mf\u001b[39m\u001b[38;5;124m'\u001b[39m\u001b[38;5;124m../data/external_data/crypto_\u001b[39m\u001b[38;5;132;01m{\u001b[39;00mticker\u001b[38;5;132;01m}\u001b[39;00m\u001b[38;5;124m_\u001b[39m\u001b[38;5;132;01m{\u001b[39;00mmetric\u001b[38;5;132;01m}\u001b[39;00m\u001b[38;5;124m.png\u001b[39m\u001b[38;5;124m'\u001b[39m)\n\u001b[1;32m     22\u001b[0m             plt\u001b[38;5;241m.\u001b[39mshow()\n\u001b[0;32m---> 24\u001b[0m plot_crypto_data(\u001b[43mcrypto_data_long\u001b[49m, \u001b[38;5;124m'\u001b[39m\u001b[38;5;124mBTC\u001b[39m\u001b[38;5;124m'\u001b[39m)\n",
      "\u001b[0;31mNameError\u001b[0m: name 'crypto_data_long' is not defined"
     ]
    }
   ],
   "source": [
    "import matplotlib.pyplot as plt\n",
    "\n",
    "def plot_crypto_data(df, ticker):\n",
    "    metrics = ['close', 'volume']\n",
    "    for metric in metrics:\n",
    "        filtered_df = df[(df['ticker'] == ticker) & (df['metric'] == metric)]\n",
    "        if filtered_df.empty:\n",
    "            fig, ax = plt.subplots()\n",
    "            ax.text(0.5, 0.5, \"No Crypto Data available for {} at this time.\".format(metric), fontsize=12, ha='center')\n",
    "            ax.axis('off')\n",
    "            fig.savefig(f'../data/cleaned_data/crypto_{ticker}_{metric}.png')\n",
    "            fig.savefig(f'../data/external_data/crypto_{ticker}_{metric}.png')\n",
    "        else:\n",
    "            plt.figure(figsize=(10, 5))\n",
    "            plt.plot(filtered_df['date'], filtered_df['value'], label=f'{ticker} {metric}')\n",
    "            plt.title(f'{ticker} {metric.capitalize()} Crypto Over Time')\n",
    "            plt.xlabel('Date')\n",
    "            plt.ylabel(metric.capitalize())\n",
    "            plt.legend()\n",
    "            plt.savefig(f'../data/cleaned_data/crypto_{ticker}_{metric}.png')\n",
    "            plt.savefig(f'../data/external_data/crypto_{ticker}_{metric}.png')\n",
    "            plt.show()\n",
    "\n",
    "plot_crypto_data(crypto_data_long, 'BTC')\n"
   ]
  },
  {
   "cell_type": "code",
   "execution_count": 22,
   "metadata": {},
   "outputs": [
    {
     "name": "stdout",
     "output_type": "stream",
     "text": [
      "Cleaned stock data saved to ../data/cleaned_data/cleaned_stock_data.csv\n"
     ]
    }
   ],
   "source": [
    "cleaned_stock_path = '../data/cleaned_data/cleaned_stock_data.csv'\n",
    "if not stock_data_long.empty:\n",
    "    stock_data_long.to_csv(cleaned_stock_path, index=False)\n",
    "    print(f\"Cleaned stock data saved to {cleaned_stock_path}\")\n",
    "else:\n",
    "    print(\"No cleaned stock data to save.\")\n"
   ]
  }
 ],
 "metadata": {
  "kernelspec": {
   "display_name": "venv",
   "language": "python",
   "name": "python3"
  },
  "language_info": {
   "codemirror_mode": {
    "name": "ipython",
    "version": 3
   },
   "file_extension": ".py",
   "mimetype": "text/x-python",
   "name": "python",
   "nbconvert_exporter": "python",
   "pygments_lexer": "ipython3",
   "version": "3.11.7"
  }
 },
 "nbformat": 4,
 "nbformat_minor": 2
}
